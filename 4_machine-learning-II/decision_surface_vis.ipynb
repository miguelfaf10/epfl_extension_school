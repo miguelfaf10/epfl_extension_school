{
 "cells": [
  {
   "cell_type": "code",
   "execution_count": null,
   "metadata": {},
   "outputs": [],
   "source": [
    "import numpy as np\n",
    "import matplotlib.pyplot as plt"
   ]
  },
  {
   "cell_type": "markdown",
   "metadata": {},
   "source": [
    "# For Logistic regression"
   ]
  },
  {
   "cell_type": "code",
   "execution_count": null,
   "metadata": {},
   "outputs": [],
   "source": [
    "# Helper function\n",
    "def decision_surface(ax, X, y, logreg):\n",
    "    # Plot data points\n",
    "    setosa_idx = y == 1  # Setosa data points\n",
    "\n",
    "    plt.scatter(\n",
    "        X[:, 0][setosa_idx], X[:, 1][setosa_idx], color=\"C3\", label=\"setosa\"\n",
    "    )  # Setosa\n",
    "    plt.scatter(\n",
    "        X[:, 0][~setosa_idx], X[:, 1][~setosa_idx], color=\"C0\", label=\"other\"\n",
    "    )  # Versicolor and virginica\n",
    "\n",
    "    # Create a grid of values\n",
    "    xlim, ylim = ax.get_xlim(), ax.get_ylim()\n",
    "    x_values = np.linspace(*xlim, num=40)\n",
    "    y_values = np.linspace(*ylim, num=40)\n",
    "    xx, yy = np.meshgrid(x_values, y_values)\n",
    "    points = np.c_[xx.flatten(), yy.flatten()]\n",
    "\n",
    "    # Probability for positive class (setosa)\n",
    "    probs = logreg.predict_proba(points)\n",
    "    prob_setosa = probs[:, 1]\n",
    "\n",
    "    # Draw decision boundary (p=0.5)\n",
    "    zz = prob_setosa.reshape(xx.shape)\n",
    "    plt.contour(xx, yy, zz, levels=[0.5], colors=\"gray\")\n",
    "\n",
    "    # Plot decision surface with level curves\n",
    "    plt.contourf(xx, yy, zz, 10, alpha=0.3, cmap=plt.cm.coolwarm)\n",
    "\n",
    "    # Add labels\n",
    "    plt.xlabel(\"petal length (cm)\")\n",
    "    plt.ylabel(\"petal width (cm)\")\n",
    "    plt.legend()\n",
    "    plt.colorbar(label=\"probability\")\n",
    "    plt.show()"
   ]
  },
  {
   "cell_type": "code",
   "execution_count": null,
   "metadata": {},
   "outputs": [],
   "source": [
    "# Helper function\n",
    "def decision_surface(ax, x1, x2, y, estimator):\n",
    "    # Same scale for x- and y-axis\n",
    "    ax.set_aspect(\"equal\", adjustable=\"box\")\n",
    "\n",
    "    # Plot data points\n",
    "    class1_idx = y == 1\n",
    "    plt.scatter(x1[class1_idx], x2[class1_idx], color=\"C3\", label=\"class 1\")\n",
    "    plt.scatter(x1[~class1_idx], x2[~class1_idx], color=\"C0\", label=\"class 0\")\n",
    "\n",
    "    # Create a grid of values\n",
    "    xlim, ylim = ax.get_xlim(), ax.get_ylim()\n",
    "    x_values = np.linspace(*xlim, num=500)\n",
    "    y_values = np.linspace(*ylim, num=500)\n",
    "    xx, yy = np.meshgrid(x_values, y_values)\n",
    "    grid_points = np.c_[xx.flatten(), yy.flatten()]\n",
    "\n",
    "    # Compute predictions\n",
    "    preds = estimator.predict(grid_points)\n",
    "    zz = preds.reshape(xx.shape)\n",
    "\n",
    "    # Draw decision boundary\n",
    "    plt.contour(xx, yy, zz, levels=[0.5], colors=\"gray\")\n",
    "\n",
    "    # Plot decision surface with level curves\n",
    "    plt.contourf(xx, yy, zz, alpha=0.1, cmap=plt.cm.coolwarm)\n",
    "    plt.legend()\n",
    "    plt.show()"
   ]
  }
 ],
 "metadata": {
  "kernelspec": {
   "display_name": "data_science",
   "language": "python",
   "name": "python3"
  },
  "language_info": {
   "name": "python",
   "version": "3.12.3"
  }
 },
 "nbformat": 4,
 "nbformat_minor": 2
}
