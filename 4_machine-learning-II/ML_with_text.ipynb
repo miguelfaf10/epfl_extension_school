{
 "cells": [
  {
   "cell_type": "code",
   "execution_count": 1,
   "metadata": {},
   "outputs": [],
   "source": [
    "# Import libraries\n",
    "import os\n",
    "import numpy as np\n",
    "import matplotlib.pyplot as plt\n",
    "\n",
    "%matplotlib inline"
   ]
  },
  {
   "cell_type": "code",
   "execution_count": 4,
   "metadata": {},
   "outputs": [
    {
     "name": "stdout",
     "output_type": "stream",
     "text": [
      "Extracting all the files now...\n",
      "Done!\n"
     ]
    }
   ],
   "source": [
    "# Unzip c4_imdb-8k.zip file\n",
    "\n",
    "from zipfile import ZipFile\n",
    "\n",
    "with ZipFile(\"c4_imdb-8k.zip\", \"r\") as zip:\n",
    "    print(\"Extracting all the files now...\")\n",
    "    zip.extractall()\n",
    "    print(\"Done!\")"
   ]
  },
  {
   "cell_type": "code",
   "execution_count": 7,
   "metadata": {},
   "outputs": [],
   "source": [
    "from sklearn.datasets import load_files\n",
    "\n",
    "# Path to datafolder\n",
    "PATH_DATA = \"c4_imdb-8k\"\n",
    "\n",
    "# Load training data\n",
    "train_data = load_files(\n",
    "    os.path.join(PATH_DATA, \"train\"), encoding=\"ISO-8859-1\", categories=[\"pos\", \"neg\"]\n",
    ")\n",
    "\n",
    "# Load test data\n",
    "test_data = load_files(\n",
    "    os.path.join(PATH_DATA, \"test\"), encoding=\"ISO-8859-1\", categories=[\"pos\", \"neg\"]\n",
    ")\n"
   ]
  },
  {
   "cell_type": "code",
   "execution_count": 8,
   "metadata": {},
   "outputs": [
    {
     "name": "stdout",
     "output_type": "stream",
     "text": [
      "Training data:  (8000, 2)\n",
      "Test  data:     (7952, 2)\n"
     ]
    }
   ],
   "source": [
    "# Load data in a dataframe\n",
    "import pandas as pd\n",
    "\n",
    "# Training data\n",
    "df = pd.DataFrame({\"text\": train_data.data, \"label\": train_data.target})\n",
    "\n",
    "# Test data\n",
    "df_test = pd.DataFrame({\"text\": test_data.data, \"label\": test_data.target})\n",
    "\n",
    "print(\"Training data: \", df.shape)\n",
    "print(\"Test  data:    \", df_test.shape)"
   ]
  },
  {
   "cell_type": "code",
   "execution_count": 9,
   "metadata": {},
   "outputs": [
    {
     "name": "stdout",
     "output_type": "stream",
     "text": [
      "Training data:  (7986, 2)\n",
      "Test  data:     (7914, 2)\n"
     ]
    }
   ],
   "source": [
    "# Drop duplicates from training/test data\n",
    "df.drop_duplicates(inplace=True)\n",
    "df_test.drop_duplicates(inplace=True)\n",
    "\n",
    "# Reset index\n",
    "df.reset_index(drop=True, inplace=True)\n",
    "df_test.reset_index(drop=True, inplace=True)\n",
    "\n",
    "print(\"Training data: \", df.shape)\n",
    "print(\"Test  data:    \", df_test.shape)"
   ]
  },
  {
   "cell_type": "code",
   "execution_count": 10,
   "metadata": {},
   "outputs": [
    {
     "data": {
      "text/html": [
       "<div>\n",
       "<style scoped>\n",
       "    .dataframe tbody tr th:only-of-type {\n",
       "        vertical-align: middle;\n",
       "    }\n",
       "\n",
       "    .dataframe tbody tr th {\n",
       "        vertical-align: top;\n",
       "    }\n",
       "\n",
       "    .dataframe thead th {\n",
       "        text-align: right;\n",
       "    }\n",
       "</style>\n",
       "<table border=\"1\" class=\"dataframe\">\n",
       "  <thead>\n",
       "    <tr style=\"text-align: right;\">\n",
       "      <th></th>\n",
       "      <th>text</th>\n",
       "      <th>label</th>\n",
       "    </tr>\n",
       "  </thead>\n",
       "  <tbody>\n",
       "    <tr>\n",
       "      <th>0</th>\n",
       "      <td>A bad rip-off attempt on \"Seven\", complete wit...</td>\n",
       "      <td>0</td>\n",
       "    </tr>\n",
       "    <tr>\n",
       "      <th>1</th>\n",
       "      <td>Whatever possessed Guy Ritchie to remake Wertm...</td>\n",
       "      <td>0</td>\n",
       "    </tr>\n",
       "    <tr>\n",
       "      <th>2</th>\n",
       "      <td>Return To The 3th Chamber is the comedic seque...</td>\n",
       "      <td>1</td>\n",
       "    </tr>\n",
       "    <tr>\n",
       "      <th>3</th>\n",
       "      <td>Raising Victor Vargas: A Review&lt;br /&gt;&lt;br /&gt;You...</td>\n",
       "      <td>0</td>\n",
       "    </tr>\n",
       "    <tr>\n",
       "      <th>4</th>\n",
       "      <td>For months preceding the release of this movie...</td>\n",
       "      <td>0</td>\n",
       "    </tr>\n",
       "  </tbody>\n",
       "</table>\n",
       "</div>"
      ],
      "text/plain": [
       "                                                text  label\n",
       "0  A bad rip-off attempt on \"Seven\", complete wit...      0\n",
       "1  Whatever possessed Guy Ritchie to remake Wertm...      0\n",
       "2  Return To The 3th Chamber is the comedic seque...      1\n",
       "3  Raising Victor Vargas: A Review<br /><br />You...      0\n",
       "4  For months preceding the release of this movie...      0"
      ]
     },
     "execution_count": 10,
     "metadata": {},
     "output_type": "execute_result"
    }
   ],
   "source": [
    "df.head()"
   ]
  },
  {
   "cell_type": "code",
   "execution_count": 13,
   "metadata": {},
   "outputs": [],
   "source": [
    "df['word_count'] = df['text'].apply(lambda x: len(x.split()))\n"
   ]
  },
  {
   "cell_type": "code",
   "execution_count": 19,
   "metadata": {},
   "outputs": [
    {
     "data": {
      "text/plain": [
       "count    7986.000000\n",
       "mean      231.678688\n",
       "std       173.646667\n",
       "min        10.000000\n",
       "25%       126.000000\n",
       "50%       173.000000\n",
       "75%       282.000000\n",
       "max      2470.000000\n",
       "Name: word_count, dtype: float64"
      ]
     },
     "execution_count": 19,
     "metadata": {},
     "output_type": "execute_result"
    }
   ],
   "source": [
    "df['word_count'].describe()"
   ]
  },
  {
   "cell_type": "code",
   "execution_count": 15,
   "metadata": {},
   "outputs": [
    {
     "data": {
      "text/plain": [
       "(array([3.440e+02, 8.400e+02, 2.316e+03, 1.365e+03, 8.240e+02, 5.350e+02,\n",
       "        4.140e+02, 3.100e+02, 2.280e+02, 1.890e+02, 1.320e+02, 1.070e+02,\n",
       "        8.000e+01, 6.800e+01, 5.000e+01, 3.900e+01, 4.300e+01, 2.100e+01,\n",
       "        1.800e+01, 3.400e+01, 1.700e+01, 3.000e+00, 0.000e+00, 2.000e+00,\n",
       "        1.000e+00, 2.000e+00, 0.000e+00, 0.000e+00, 0.000e+00, 1.000e+00,\n",
       "        1.000e+00, 0.000e+00, 0.000e+00, 0.000e+00, 0.000e+00, 0.000e+00,\n",
       "        0.000e+00, 1.000e+00, 0.000e+00, 0.000e+00, 0.000e+00, 0.000e+00,\n",
       "        0.000e+00, 0.000e+00, 0.000e+00, 0.000e+00, 0.000e+00, 0.000e+00,\n",
       "        0.000e+00, 1.000e+00]),\n",
       " array([  10. ,   59.2,  108.4,  157.6,  206.8,  256. ,  305.2,  354.4,\n",
       "         403.6,  452.8,  502. ,  551.2,  600.4,  649.6,  698.8,  748. ,\n",
       "         797.2,  846.4,  895.6,  944.8,  994. , 1043.2, 1092.4, 1141.6,\n",
       "        1190.8, 1240. , 1289.2, 1338.4, 1387.6, 1436.8, 1486. , 1535.2,\n",
       "        1584.4, 1633.6, 1682.8, 1732. , 1781.2, 1830.4, 1879.6, 1928.8,\n",
       "        1978. , 2027.2, 2076.4, 2125.6, 2174.8, 2224. , 2273.2, 2322.4,\n",
       "        2371.6, 2420.8, 2470. ]),\n",
       " <BarContainer object of 50 artists>)"
      ]
     },
     "execution_count": 15,
     "metadata": {},
     "output_type": "execute_result"
    },
    {
     "data": {
      "image/png": "[encoded data removed]",
      "text/plain": [
       "<Figure size 640x480 with 1 Axes>"
      ]
     },
     "metadata": {},
     "output_type": "display_data"
    }
   ],
   "source": [
    "plt.hist(df['word_count'], bins=50, edgecolor='black')"
   ]
  },
  {
   "cell_type": "code",
   "execution_count": null,
   "metadata": {},
   "outputs": [],
   "source": []
  }
 ],
 "metadata": {
  "kernelspec": {
   "display_name": "epfl_extension_school",
   "language": "python",
   "name": "python3"
  },
  "language_info": {
   "codemirror_mode": {
    "name": "ipython",
    "version": 3
   },
   "file_extension": ".py",
   "mimetype": "text/x-python",
   "name": "python",
   "nbconvert_exporter": "python",
   "pygments_lexer": "ipython3",
   "version": "3.9.16"
  }
 },
 "nbformat": 4,
 "nbformat_minor": 2
}
