{
 "cells": [
  {
   "cell_type": "markdown",
   "metadata": {},
   "source": [
    "CIFAR-10 classification with k-NN\n",
    "---\n",
    "\n",
    "> **Exercise**: Load the data from the `c4_cifar10-6k.npz` file into X/y arrays. The data type of the input matrix `X` should be `float64`. Split it into train (5,000 images) and test (1,000) sets using the `train_test_split()` function. Set the `random_state` to zero. "
   ]
  },
  {
   "cell_type": "code",
   "execution_count": 1,
   "metadata": {},
   "outputs": [
    {
     "name": "stdout",
     "output_type": "stream",
     "text": [
      "Data loaded\n",
      "It is a dictionary with keys: ['data', 'labels', 'names']\n"
     ]
    }
   ],
   "source": [
    "import numpy as np\n",
    "import os\n",
    "\n",
    "# Load the .npz file\n",
    "with np.load(\"c4_cifar10-6k.npz\", allow_pickle=False) as data:\n",
    "    cifar10_data = dict(data.items())\n",
    "\n",
    "print(\"Data loaded\")\n",
    "print(\"It is a dictionary with keys:\", list(cifar10_data.keys()))"
   ]
  },
  {
   "cell_type": "code",
   "execution_count": 2,
   "metadata": {},
   "outputs": [
    {
     "name": "stdout",
     "output_type": "stream",
     "text": [
      "X: (6000, 3072) uint8\n",
      "y: (6000,) int32\n",
      "names: ['airplane' 'automobile' 'bird' 'cat' 'deer' 'dog' 'frog' 'horse' 'ship'\n",
      " 'truck']\n"
     ]
    }
   ],
   "source": [
    "# Create X/y arrays\n",
    "X = cifar10_data[\"data\"]\n",
    "y = cifar10_data[\"labels\"]\n",
    "names = cifar10_data[\"names\"]\n",
    "\n",
    "print(\"X:\", X.shape, X.dtype)\n",
    "print(\"y:\", y.shape, y.dtype)\n",
    "print(\"names:\", names)"
   ]
  },
  {
   "cell_type": "code",
   "execution_count": 4,
   "metadata": {},
   "outputs": [],
   "source": [
    "from sklearn.model_selection import train_test_split\n",
    "\n",
    "# Convert the type of the input matrix to float\n",
    "X = X.astype(np.float32)\n",
    "\n",
    "# Split data into train/test sets\n",
    "X_tr, X_te, y_tr, y_te = train_test_split(\n",
    "    X, y, train_size=5000, test_size=1000, random_state=0\n",
    ")"
   ]
  },
  {
   "cell_type": "markdown",
   "metadata": {},
   "source": [
    "Solution: Data exploration\n",
    "---\n",
    "\n",
    "The ten categories are numerically encoded with digits between 0 and 9.\n",
    "\n",
    "| digit | category   | digit | category   |\n",
    "|-------|------------|-------|------------|\n",
    "| 0     | airplane   | 5     | dog        |\n",
    "| 1     | automobile | 6     | frog       |\n",
    "| 2     | bird       | 7     | horse      |\n",
    "| 3     | cat        | 8     | ship       |\n",
    "| 4     | deer       | 9     | truck      |\n",
    "\n",
    "> **Exercise**: What is the proportion of images in each category? Plot a few images from the dataset."
   ]
  },
  {
   "cell_type": "code",
   "execution_count": 5,
   "metadata": {},
   "outputs": [
    {
     "name": "stderr",
     "output_type": "stream",
     "text": [
      "/tmp/ipykernel_21632/1649063125.py:4: FutureWarning: pandas.value_counts is deprecated and will be removed in a future version. Use pd.Series(obj).value_counts() instead.\n",
      "  pd.value_counts(y, normalize=True)\n"
     ]
    },
    {
     "data": {
      "text/plain": [
       "8    0.103333\n",
       "2    0.103167\n",
       "6    0.102667\n",
       "9    0.102167\n",
       "4    0.101833\n",
       "0    0.101667\n",
       "7    0.099500\n",
       "5    0.097167\n",
       "3    0.096667\n",
       "1    0.091833\n",
       "Name: proportion, dtype: float64"
      ]
     },
     "execution_count": 5,
     "metadata": {},
     "output_type": "execute_result"
    }
   ],
   "source": [
    "import pandas as pd\n",
    "\n",
    "# Image distribution\n",
    "pd.value_counts(y, normalize=True)"
   ]
  },
  {
   "cell_type": "code",
   "execution_count": 6,
   "metadata": {},
   "outputs": [
    {
     "name": "stdout",
     "output_type": "stream",
     "text": [
      "Label: 5 (dog)\n"
     ]
    },
    {
     "data": {
      "image/png": "[encoded data removed]",
      "text/plain": [
       "<Figure size 200x200 with 1 Axes>"
      ]
     },
     "metadata": {},
     "output_type": "display_data"
    },
    {
     "name": "stdout",
     "output_type": "stream",
     "text": [
      "Label: 3 (cat)\n"
     ]
    },
    {
     "data": {
      "image/png": "[encoded data removed]",
      "text/plain": [
       "<Figure size 200x200 with 1 Axes>"
      ]
     },
     "metadata": {},
     "output_type": "display_data"
    },
    {
     "name": "stdout",
     "output_type": "stream",
     "text": [
      "Label: 6 (frog)\n"
     ]
    },
    {
     "data": {
      "image/png": "[encoded data removed]",
      "text/plain": [
       "<Figure size 200x200 with 1 Axes>"
      ]
     },
     "metadata": {},
     "output_type": "display_data"
    }
   ],
   "source": [
    "%matplotlib inline\n",
    "import matplotlib.pyplot as plt\n",
    "\n",
    "# Function to plot the i-th image from some X/y arrays\n",
    "def show_image(idx, X, y):\n",
    "    # Print its label\n",
    "    label = y[idx]\n",
    "    print(\"Label: {} ({})\".format(label, names[label]))  # Class name\n",
    "\n",
    "    # Get image pixels\n",
    "    flat_img = X[idx]  # has shape (3072,)\n",
    "\n",
    "    # Reshape the \"flat vector\" into a 32x32x3 array\n",
    "    img = flat_img.reshape(32, 32, 3)\n",
    "\n",
    "    # The imshow() function expects pixel values\n",
    "    # between 0 and 1 when the data type is float.\n",
    "    img = img / 255  # Rescale [0,255] values to [0,1]\n",
    "\n",
    "    # Plot the image\n",
    "    plt.figure(figsize=(2, 2))  # 2 by 2 figure (in inches)\n",
    "    plt.imshow(img)\n",
    "    plt.axis(\"off\")  # Hide the x- and y-axis\n",
    "    plt.show()\n",
    "\n",
    "\n",
    "# Show the first images from the training set\n",
    "show_image(0, X_tr, y_tr)\n",
    "show_image(1, X_tr, y_tr)\n",
    "show_image(2, X_tr, y_tr)"
   ]
  },
  {
   "cell_type": "markdown",
   "metadata": {},
   "source": [
    "Solution: Fit a *k*-NN classifier\n",
    "---\n",
    "\n",
    "> **Exercise**: Create a *k*-NN classifer and tune it using grid search for the following hyperparameters.\n",
    "> 1. The number of neighbors: define a set of reasonable values\n",
    "> 1. The weighting function: \"uniform\" or \"distance\"\n",
    "> 1. The distance metric: L1 or L2"
   ]
  },
  {
   "cell_type": "code",
   "execution_count": 7,
   "metadata": {},
   "outputs": [],
   "source": [
    "from sklearn.neighbors import KNeighborsClassifier\n",
    "from sklearn.pipeline import Pipeline\n",
    "from sklearn.preprocessing import StandardScaler\n",
    "\n",
    "# Create k-NN classifier\n",
    "pipe = Pipeline(\n",
    "    [\n",
    "        # ('scaler', StandardScaler()), # With standardization\n",
    "        (\"scaler\", None),  # Better performance without standardization!\n",
    "        (\n",
    "            \"knn\",\n",
    "            KNeighborsClassifier(\n",
    "                algorithm=\"brute\",  # Brute-force search\n",
    "                n_jobs=-1,  # As many parallel jobs as possible\n",
    "            ),\n",
    "        ),\n",
    "    ]\n",
    ")"
   ]
  },
  {
   "cell_type": "code",
   "execution_count": 8,
   "metadata": {},
   "outputs": [
    {
     "name": "stdout",
     "output_type": "stream",
     "text": [
      "Number of combinations: 12\n"
     ]
    }
   ],
   "source": [
    "from sklearn.model_selection import ParameterGrid\n",
    "\n",
    "# A first grid of parameters - start with a few k values\n",
    "grid = ParameterGrid(\n",
    "    {\n",
    "        \"knn__n_neighbors\": [10, 20, 30],  # k\n",
    "        \"knn__weights\": [\"uniform\", \"distance\"],  # Weighting function\n",
    "        \"knn__p\": [1, 2],  # L1 and L2 distance metrics\n",
    "    }\n",
    ")\n",
    "\n",
    "# Print the number of combinations\n",
    "print(\"Number of combinations:\", len(grid))"
   ]
  },
  {
   "cell_type": "code",
   "execution_count": 9,
   "metadata": {},
   "outputs": [
    {
     "name": "stdout",
     "output_type": "stream",
     "text": [
      "Combination 1/12\n",
      "Combination 2/12\n",
      "Combination 3/12\n",
      "Combination 4/12\n",
      "Combination 5/12\n",
      "Combination 6/12\n",
      "Combination 7/12\n",
      "Combination 8/12\n",
      "Combination 9/12\n",
      "Combination 10/12\n",
      "Combination 11/12\n",
      "Combination 12/12\n",
      "done\n"
     ]
    }
   ],
   "source": [
    "# Save accuracy on test set\n",
    "test_scores = []\n",
    "\n",
    "# Enumerate combinations starting from 1\n",
    "for i, params_dict in enumerate(grid, 1):\n",
    "    # Print progress\n",
    "    print(\"Combination {}/{}\".format(i, len(grid)))  # Total number of combinations\n",
    "\n",
    "    # Set parameters\n",
    "    pipe.set_params(**params_dict)\n",
    "\n",
    "    # Fit a k-NN classifier\n",
    "    pipe.fit(X_tr, y_tr)\n",
    "\n",
    "    # Save accuracy on test set\n",
    "    params_dict[\"accuracy\"] = pipe.score(X_te, y_te)\n",
    "\n",
    "    # Save result\n",
    "    test_scores.append(params_dict)\n",
    "\n",
    "print(\"done\")"
   ]
  },
  {
   "cell_type": "code",
   "execution_count": null,
   "metadata": {},
   "outputs": [],
   "source": [
    "# Create DataFrame with test scores\n",
    "scores_df = pd.DataFrame(test_scores)\n",
    "\n",
    "# Print scores\n",
    "scores_df.sort_values(by=\"accuracy\", ascending=False)"
   ]
  },
  {
   "cell_type": "code",
   "execution_count": null,
   "metadata": {},
   "outputs": [],
   "source": [
    "# Refine our search\n",
    "pipe = Pipeline(\n",
    "    [\n",
    "        (\"scaler\", None),  # Again, without standardization\n",
    "        (\n",
    "            \"knn\",\n",
    "            KNeighborsClassifier(\n",
    "                algorithm=\"brute\",  # Brute-force search\n",
    "                p=1,  # L1 distance seems better than L2\n",
    "                weights=\"distance\",  # Distance function seems better than uniform\n",
    "                n_jobs=-1,  # As many parallel jobs as possible\n",
    "            ),\n",
    "        ),\n",
    "    ]\n",
    ")\n",
    "\n",
    "# Refine the grid\n",
    "grid = ParameterGrid({\"knn__n_neighbors\": [1, 5, 10, 15, 20]})  # Best k seems around 10\n",
    "\n",
    "# Grid search\n",
    "test_scores = []\n",
    "\n",
    "for i, params_dict in enumerate(grid, 1):\n",
    "    # Print progress\n",
    "    print(\"Combination {}/{}\".format(i, len(grid)))  # Total number of combinations\n",
    "\n",
    "    # Set parameters\n",
    "    pipe.set_params(**params_dict)\n",
    "\n",
    "    # Fit a k-NN classifier\n",
    "    pipe.fit(X_tr, y_tr)\n",
    "\n",
    "    # Save accuracy on test set\n",
    "    params_dict[\"accuracy\"] = pipe.score(X_te, y_te)\n",
    "\n",
    "    # Save result\n",
    "    test_scores.append(params_dict)\n",
    "\n",
    "print(\"done\")"
   ]
  },
  {
   "cell_type": "code",
   "execution_count": null,
   "metadata": {},
   "outputs": [],
   "source": [
    "# Create DataFrame with scores\n",
    "pd.DataFrame(test_scores).sort_values(by=\"accuracy\", ascending=False)"
   ]
  }
 ],
 "metadata": {
  "kernelspec": {
   "display_name": "epfl_extension_school",
   "language": "python",
   "name": "python3"
  },
  "language_info": {
   "codemirror_mode": {
    "name": "ipython",
    "version": 3
   },
   "file_extension": ".py",
   "mimetype": "text/x-python",
   "name": "python",
   "nbconvert_exporter": "python",
   "pygments_lexer": "ipython3",
   "version": "3.9.16"
  }
 },
 "nbformat": 4,
 "nbformat_minor": 2
}
