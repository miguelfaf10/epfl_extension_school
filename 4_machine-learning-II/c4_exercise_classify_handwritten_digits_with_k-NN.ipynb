{
 "cells": [
  {
   "cell_type": "markdown",
   "metadata": {},
   "source": [
    "Classify handwritten digits with k-NN\n",
    "---"
   ]
  },
  {
   "cell_type": "markdown",
   "metadata": {},
   "source": [
    "Exercise - Load dataset\n",
    "--\n",
    "\n",
    "> **Exercise**: Load the data from the `c4_mnist-6k.npz` file into X/y arrays. The data type of the input matrix `X` should be `float64`. Split it into train (5,000 images) and test (1,000) sets using the `train_test_split()` function. Set the `random_state` to zero. "
   ]
  },
  {
   "cell_type": "code",
   "execution_count": 3,
   "metadata": {},
   "outputs": [
    {
     "data": {
      "text/plain": [
       "['data', 'labels']"
      ]
     },
     "execution_count": 3,
     "metadata": {},
     "output_type": "execute_result"
    }
   ],
   "source": [
    "data.files"
   ]
  },
  {
   "cell_type": "code",
   "execution_count": 5,
   "metadata": {},
   "outputs": [
    {
     "name": "stdout",
     "output_type": "stream",
     "text": [
      "X_train shape: (5000, 784)\n",
      "X_test shape: (1000, 784)\n",
      "y_train shape: (5000,)\n",
      "y_test shape: (1000,)\n"
     ]
    }
   ],
   "source": [
    "import numpy as np\n",
    "import pandas as pd\n",
    "from sklearn.model_selection import train_test_split\n",
    "\n",
    "# Load the data from the .npz file\n",
    "data = np.load('c4_mnist-6k.npz')\n",
    "\n",
    "# Extract the input matrix X and target vector y\n",
    "X = data['data'].astype('float64')\n",
    "y = data['labels']\n",
    "\n",
    "# Split the data into train and test sets\n",
    "X_train, X_test, y_train, y_test = train_test_split(X, y, train_size=5000, test_size=1000, random_state=0)\n",
    "\n",
    "# Display the shapes of the resulting arrays\n",
    "print(f\"X_train shape: {X_train.shape}\")\n",
    "print(f\"X_test shape: {X_test.shape}\")\n",
    "print(f\"y_train shape: {y_train.shape}\")\n",
    "print(f\"y_test shape: {y_test.shape}\")"
   ]
  },
  {
   "cell_type": "markdown",
   "metadata": {},
   "source": [
    "Exercise: Data exploration\n",
    "---\n",
    "\n",
    "> **Exercise**: What are the different categories? What is the proportion of images in each one?"
   ]
  },
  {
   "cell_type": "code",
   "execution_count": 11,
   "metadata": {},
   "outputs": [
    {
     "name": "stdout",
     "output_type": "stream",
     "text": [
      "\n",
      "Categories and their proportions:\n",
      "1    0.111833\n",
      "7    0.108500\n",
      "4    0.103833\n",
      "3    0.101333\n",
      "6    0.101333\n",
      "9    0.100167\n",
      "0    0.098667\n",
      "2    0.096833\n",
      "8    0.091833\n",
      "5    0.085667\n",
      "Name: proportion, dtype: float64\n"
     ]
    }
   ],
   "source": [
    "y_series = pd.Series(y)\n",
    "category_counts = y_series.value_counts()\n",
    "category_proportions = y_series.value_counts(normalize=True)\n",
    "\n",
    "print(\"\\nCategories and their proportions:\")\n",
    "print(category_proportions)"
   ]
  },
  {
   "cell_type": "markdown",
   "metadata": {},
   "source": [
    "> **Exercise**: Plot some images with their labels from the X/y arrays."
   ]
  },
  {
   "cell_type": "code",
   "execution_count": 13,
   "metadata": {},
   "outputs": [
    {
     "data": {
      "image/png": "[encoded data removed]",
      "text/plain": [
       "<Figure size 1000x1000 with 4 Axes>"
      ]
     },
     "metadata": {},
     "output_type": "display_data"
    }
   ],
   "source": [
    "import matplotlib.pyplot as plt\n",
    "\n",
    "num_images=4\n",
    "\n",
    "plt.figure(figsize=(10, 10))\n",
    "for i in range(num_images):\n",
    "    plt.subplot(1, num_images, i + 1)\n",
    "    plt.imshow(X[i].reshape(28, 28), cmap='gray_r')\n",
    "    plt.title(f\"Label: {y[i]}\")\n",
    "    plt.axis('off')\n",
    "plt.show()"
   ]
  },
  {
   "cell_type": "markdown",
   "metadata": {},
   "source": [
    "Exercise: Set a baseline\n",
    "---\n",
    "\n",
    "> **Exercise**: Create a baseline model using the `DummyClassifier` object from Scikit-learn and evaluate its performance on the test set."
   ]
  },
  {
   "cell_type": "code",
   "execution_count": null,
   "metadata": {},
   "outputs": [],
   "source": [
    "# Split the data into train and test sets\n",
    "X_train, X_test, y_train, y_test = train_test_split(X, y, train_size=5000, test_size=1000, random_state=0)"
   ]
  },
  {
   "cell_type": "code",
   "execution_count": null,
   "metadata": {},
   "outputs": [
    {
     "name": "stdout",
     "output_type": "stream",
     "text": [
      "Accuracy of the baseline model: 0.105\n",
      "\n",
      "Classification Report:\n",
      "              precision    recall  f1-score   support\n",
      "\n",
      "           0       0.00      0.00      0.00        86\n",
      "           1       0.10      1.00      0.19       105\n",
      "           2       0.00      0.00      0.00        89\n",
      "           3       0.00      0.00      0.00       121\n",
      "           4       0.00      0.00      0.00        95\n",
      "           5       0.00      0.00      0.00        83\n",
      "           6       0.00      0.00      0.00       108\n",
      "           7       0.00      0.00      0.00       117\n",
      "           8       0.00      0.00      0.00        88\n",
      "           9       0.00      0.00      0.00       108\n",
      "\n",
      "    accuracy                           0.10      1000\n",
      "   macro avg       0.01      0.10      0.02      1000\n",
      "weighted avg       0.01      0.10      0.02      1000\n",
      "\n"
     ]
    },
    {
     "name": "stderr",
     "output_type": "stream",
     "text": [
      "/home/miguel/.pyenv/versions/3.9/envs/epfl_extension_school/lib/python3.9/site-packages/sklearn/metrics/_classification.py:1471: UndefinedMetricWarning: Precision and F-score are ill-defined and being set to 0.0 in labels with no predicted samples. Use `zero_division` parameter to control this behavior.\n",
      "  _warn_prf(average, modifier, msg_start, len(result))\n",
      "/home/miguel/.pyenv/versions/3.9/envs/epfl_extension_school/lib/python3.9/site-packages/sklearn/metrics/_classification.py:1471: UndefinedMetricWarning: Precision and F-score are ill-defined and being set to 0.0 in labels with no predicted samples. Use `zero_division` parameter to control this behavior.\n",
      "  _warn_prf(average, modifier, msg_start, len(result))\n",
      "/home/miguel/.pyenv/versions/3.9/envs/epfl_extension_school/lib/python3.9/site-packages/sklearn/metrics/_classification.py:1471: UndefinedMetricWarning: Precision and F-score are ill-defined and being set to 0.0 in labels with no predicted samples. Use `zero_division` parameter to control this behavior.\n",
      "  _warn_prf(average, modifier, msg_start, len(result))\n"
     ]
    }
   ],
   "source": [
    "from sklearn.model_selection import train_test_split\n",
    "from sklearn.dummy import DummyClassifier\n",
    "from sklearn.metrics import accuracy_score, classification_report\n",
    "\n",
    "# Create and train the DummyClassifier\n",
    "dummy_clf = DummyClassifier(strategy='most_frequent')\n",
    "dummy_clf.fit(X_train, y_train)\n",
    "\n",
    "# Make predictions on the test set\n",
    "y_pred = dummy_clf.predict(X_test)\n",
    "\n",
    "# Evaluate the performance\n",
    "accuracy = accuracy_score(y_test, y_pred)\n",
    "report = classification_report(y_test, y_pred)\n",
    "\n",
    "print(f\"Accuracy of the baseline model: {accuracy}\")\n",
    "print(\"\\nClassification Report:\")\n",
    "print(report)"
   ]
  },
  {
   "cell_type": "markdown",
   "metadata": {},
   "source": [
    "Exercise: Create k-NN classifier\n",
    "---\n",
    "\n",
    "> **Exercise**: Build a k-NN classifier using a `Pipeline` object (set k to 5). Try with and without standardization."
   ]
  },
  {
   "cell_type": "code",
   "execution_count": 24,
   "metadata": {},
   "outputs": [
    {
     "name": "stdout",
     "output_type": "stream",
     "text": [
      "With Standardization:\n",
      "Accuracy: 0.899\n",
      "\n",
      "Without Standardization:\n",
      "Accuracy: 0.941\n"
     ]
    }
   ],
   "source": [
    "from sklearn.pipeline import Pipeline\n",
    "from sklearn.preprocessing import StandardScaler\n",
    "from sklearn.neighbors import KNeighborsClassifier\n",
    "from sklearn.metrics import accuracy_score, classification_report\n",
    "\n",
    "# Create a pipeline with standardization\n",
    "pipeline_with_scaler = Pipeline([\n",
    "    ('scaler', StandardScaler()),\n",
    "    ('knn', KNeighborsClassifier(n_neighbors=5))\n",
    "])\n",
    "\n",
    "# Create a pipeline without standardization\n",
    "pipeline_without_scaler = Pipeline([\n",
    "    ('knn', KNeighborsClassifier(n_neighbors=5))\n",
    "])\n",
    "\n",
    "# Train and evaluate the model with standardization\n",
    "pipeline_with_scaler.fit(X_train, y_train)\n",
    "y_pred_with_scaler = pipeline_with_scaler.predict(X_test)\n",
    "accuracy_with_scaler = accuracy_score(y_test, y_pred_with_scaler)\n",
    "\n",
    "print(\"With Standardization:\")\n",
    "print(f\"Accuracy: {accuracy_with_scaler}\")\n",
    "\n",
    "# Train and evaluate the model without standardization\n",
    "pipeline_without_scaler.fit(X_train, y_train)\n",
    "y_pred_without_scaler = pipeline_without_scaler.predict(X_test)\n",
    "accuracy_without_scaler = accuracy_score(y_test, y_pred_without_scaler)\n",
    "\n",
    "print(\"\\nWithout Standardization:\")\n",
    "print(f\"Accuracy: {accuracy_without_scaler}\")"
   ]
  },
  {
   "cell_type": "markdown",
   "metadata": {},
   "source": [
    "Exercise: Tune k using grid search\n",
    "---\n",
    "\n",
    "> **Exercise**: Tune k using grid search. Plot the test accuracy.\n",
    "\n",
    "**Hint**: You don't have to compute the train accuracy which is computationally expensive due to the size of the train set."
   ]
  },
  {
   "cell_type": "code",
   "execution_count": 23,
   "metadata": {},
   "outputs": [
    {
     "name": "stdout",
     "output_type": "stream",
     "text": [
      "Best k: 7\n",
      "Best cross-validated accuracy: 0.8906000000000001\n",
      "Test accuracy with best k: 0.899\n"
     ]
    },
    {
     "data": {
      "image/png": "[encoded data removed]",
      "text/plain": [
       "<Figure size 1000x600 with 1 Axes>"
      ]
     },
     "metadata": {},
     "output_type": "display_data"
    }
   ],
   "source": [
    "from sklearn.model_selection import GridSearchCV\n",
    "\n",
    "# Define the parameter grid for k\n",
    "param_grid = {'knn__n_neighbors': np.arange(1, 21)}\n",
    "\n",
    "# Perform grid search with cross-validation\n",
    "grid_search = GridSearchCV(pipeline_with_scaler, param_grid, cv=5, scoring='accuracy', n_jobs=-1)\n",
    "grid_search.fit(X_train, y_train)\n",
    "\n",
    "# Get the best parameter and the corresponding accuracy\n",
    "best_k = grid_search.best_params_['knn__n_neighbors']\n",
    "best_accuracy = grid_search.best_score_\n",
    "\n",
    "print(f\"Best k: {best_k}\")\n",
    "print(f\"Best cross-validated accuracy: {best_accuracy}\")\n",
    "\n",
    "# Evaluate the best model on the test set\n",
    "best_model = grid_search.best_estimator_\n",
    "y_test_pred = best_model.predict(X_test)\n",
    "test_accuracy = accuracy_score(y_test, y_test_pred)\n",
    "\n",
    "print(f\"Test accuracy with best k: {test_accuracy}\")\n",
    "\n",
    "# Plot the test accuracy for different values of k\n",
    "results = grid_search.cv_results_\n",
    "mean_test_scores = results['mean_test_score']\n",
    "\n",
    "plt.figure(figsize=(10, 6))\n",
    "plt.plot(param_grid['knn__n_neighbors'], mean_test_scores, marker='o')\n",
    "plt.xlabel('Number of Neighbors (k)')\n",
    "plt.ylabel('Cross-Validated Accuracy')\n",
    "plt.title('k-NN Hyperparameter Tuning')\n",
    "plt.grid(True)\n",
    "plt.show()"
   ]
  },
  {
   "cell_type": "code",
   "execution_count": null,
   "metadata": {},
   "outputs": [],
   "source": []
  }
 ],
 "metadata": {
  "kernelspec": {
   "display_name": "epfl_extension_school",
   "language": "python",
   "name": "python3"
  },
  "language_info": {
   "codemirror_mode": {
    "name": "ipython",
    "version": 3
   },
   "file_extension": ".py",
   "mimetype": "text/x-python",
   "name": "python",
   "nbconvert_exporter": "python",
   "pygments_lexer": "ipython3",
   "version": "3.9.16"
  }
 },
 "nbformat": 4,
 "nbformat_minor": 2
}
