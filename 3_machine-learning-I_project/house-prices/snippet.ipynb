{
 "cells": [
  {
   "cell_type": "code",
   "execution_count": null,
   "metadata": {
    "vscode": {
     "languageId": "plaintext"
    }
   },
   "outputs": [],
   "source": [
    "df1 = X_train\n",
    "df2 = df_test\n",
    "\n",
    "for col in df1.columns:\n",
    "    if df1[col].dtype == 'object':\n",
    "        if col in df2.columns:\n",
    "            categories_df1 = set(df1[col].dropna().unique())\n",
    "            categories_df2 = set(df2[col].dropna().unique())\n",
    "            \n",
    "            if categories_df1 != categories_df2:\n",
    "                print(f\"The categories in column '{col}' are different.\")\n",
    "                print(f\"  - Categories in df1: {categories_df1}\")\n",
    "                print(f\"  - Categories in df2: {categories_df2}\")\n",
    "        else:\n",
    "            print(f\"Column '{col}' is not found in both DataFrames.\")"
   ]
  }
 ],
 "metadata": {
  "language_info": {
   "name": "python"
  }
 },
 "nbformat": 4,
 "nbformat_minor": 2
}
