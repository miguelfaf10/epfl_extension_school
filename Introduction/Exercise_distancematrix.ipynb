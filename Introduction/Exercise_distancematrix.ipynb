{
 "cells": [
  {
   "cell_type": "code",
   "execution_count": 37,
   "id": "f1bdfc07-667d-4f52-ae67-5e0d402a2ab4",
   "metadata": {},
   "outputs": [],
   "source": [
    "import numpy as np"
   ]
  },
  {
   "cell_type": "code",
   "execution_count": 38,
   "id": "8b41b539-9293-479a-b683-cac22c2225f7",
   "metadata": {},
   "outputs": [],
   "source": [
    "dist_to_origin = [0, 1498, 1063, 1968, 1498, 1758, 1469, 1472, 2230, 2391]"
   ]
  },
  {
   "cell_type": "code",
   "execution_count": 42,
   "id": "258f7ca6-efb8-4a63-8109-51c4b437d44e",
   "metadata": {},
   "outputs": [],
   "source": [
    "dist = np.array(dist_to_origin)\n",
    "dist = dist.reshape(1,10)\n",
    "dist_T = dist.reshape(10,1)"
   ]
  },
  {
   "cell_type": "code",
   "execution_count": 46,
   "id": "0340b047-866d-4834-9a61-a5d743fdad98",
   "metadata": {},
   "outputs": [
    {
     "data": {
      "text/plain": [
       "array([[   0, 1498, 1063, 1968, 1498, 1758, 1469, 1472, 2230, 2391],\n",
       "       [1498,    0,  435,  470,    0,  260,   29,   26,  732,  893],\n",
       "       [1063,  435,    0,  905,  435,  695,  406,  409, 1167, 1328],\n",
       "       [1968,  470,  905,    0,  470,  210,  499,  496,  262,  423],\n",
       "       [1498,    0,  435,  470,    0,  260,   29,   26,  732,  893],\n",
       "       [1758,  260,  695,  210,  260,    0,  289,  286,  472,  633],\n",
       "       [1469,   29,  406,  499,   29,  289,    0,    3,  761,  922],\n",
       "       [1472,   26,  409,  496,   26,  286,    3,    0,  758,  919],\n",
       "       [2230,  732, 1167,  262,  732,  472,  761,  758,    0,  161],\n",
       "       [2391,  893, 1328,  423,  893,  633,  922,  919,  161,    0]])"
      ]
     },
     "execution_count": 46,
     "metadata": {},
     "output_type": "execute_result"
    }
   ],
   "source": [
    "distances = np.abs(dist - dist_T)\n",
    "distances"
   ]
  },
  {
   "cell_type": "code",
   "execution_count": 47,
   "id": "ac591076-f41e-45b5-ab4e-4512c6fc8ee1",
   "metadata": {},
   "outputs": [
    {
     "data": {
      "text/plain": [
       "array([0, 1, 2, 3, 4])"
      ]
     },
     "execution_count": 47,
     "metadata": {},
     "output_type": "execute_result"
    }
   ],
   "source": [
    "a = np.arange(5)\n",
    "a"
   ]
  },
  {
   "cell_type": "code",
   "execution_count": 48,
   "id": "95ee7a63-e0c9-4b90-a748-bba50404e78f",
   "metadata": {},
   "outputs": [
    {
     "data": {
      "text/plain": [
       "array([5, 1, 2, 3, 4])"
      ]
     },
     "execution_count": 48,
     "metadata": {},
     "output_type": "execute_result"
    }
   ],
   "source": [
    "b = a  # \"a\" and \"b\" are bound to the same array\n",
    "b[0] = 5\n",
    "a"
   ]
  }
 ],
 "metadata": {
  "kernelspec": {
   "display_name": "Python 3 (ipykernel)",
   "language": "python",
   "name": "python3"
  },
  "language_info": {
   "codemirror_mode": {
    "name": "ipython",
    "version": 3
   },
   "file_extension": ".py",
   "mimetype": "text/x-python",
   "name": "python",
   "nbconvert_exporter": "python",
   "pygments_lexer": "ipython3",
   "version": "3.9.12"
  }
 },
 "nbformat": 4,
 "nbformat_minor": 5
}
