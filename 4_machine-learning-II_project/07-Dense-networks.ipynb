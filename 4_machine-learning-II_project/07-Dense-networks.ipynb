{
 "cells": [
  {
   "cell_type": "markdown",
   "metadata": {},
   "source": [
    "# 7. Dense Neural Networks"
   ]
  },
  {
   "cell_type": "code",
   "execution_count": null,
   "metadata": {},
   "outputs": [],
   "source": [
    "from util import get_image_by_index, decode_class\n",
    "import numpy as np\n",
    "import tensorflow as tf\n",
    "from tensorflow.keras import Sequential\n",
    "from tensorflow.keras.layers import Dense\n",
    "from tensorflow.keras.initializers import VarianceScaling\n",
    "\n",
    "from sklearn.model_selection import GridSearchCV\n",
    "from sklearn.preprocessing import StandardScaler\n",
    "import matplotlib.pyplot as plt\n"
   ]
  },
  {
   "cell_type": "code",
   "execution_count": null,
   "metadata": {},
   "outputs": [],
   "source": [
    "# Load the .npz file\n",
    "data = np.load('dataset_features.npz')\n",
    "\n",
    "# List all arrays within the .npz file\n",
    "print(data.files)\n",
    "\n",
    "# Access individual arrays by their names\n",
    "X_train = data['trainset_features']\n",
    "y_train = data['trainset_labels']\n",
    "\n",
    "X_val = data['validset_features']\n",
    "y_val = data['validset_labels']\n",
    "\n",
    "X_test = data['testset_features']\n",
    "y_test = data['testset_labels']\n",
    "\n",
    "class_labels = data['class_labels']"
   ]
  },
  {
   "cell_type": "markdown",
   "metadata": {},
   "source": [
    "# 1-layer model"
   ]
  },
  {
   "cell_type": "code",
   "execution_count": null,
   "metadata": {},
   "outputs": [],
   "source": [
    "model_1layer = Sequential()\n",
    "model_1layer.add(Dense(6, activation=\"softmax\", input_dim=X_train.shape[1],\n",
    "                kernel_initializer=VarianceScaling(scale=1.0, seed=0)))\n",
    "model_1layer.summary()"
   ]
  },
  {
   "cell_type": "code",
   "execution_count": null,
   "metadata": {},
   "outputs": [],
   "source": [
    "# Define loss function, optimizer and metrics to track during training\n",
    "model_1layer.compile(optimizer=\"sgd\",\n",
    "              loss=\"categorical_crossentropy\",\n",
    "              metrics=[\"acc\"])"
   ]
  },
  {
   "cell_type": "markdown",
   "metadata": {},
   "source": [
    "Data preparation"
   ]
  },
  {
   "cell_type": "code",
   "execution_count": null,
   "metadata": {},
   "outputs": [],
   "source": [
    "X_crossval = np.concatenate((X_train, X_val), axis=0)\n",
    "y_crossval = np.concatenate((y_train, y_val), axis=0)"
   ]
  },
  {
   "cell_type": "code",
   "execution_count": null,
   "metadata": {},
   "outputs": [],
   "source": [
    "# Rescale train and validation data\n",
    "scaler = StandardScaler()\n",
    "X_crossval_preprocessed = scaler.fit_transform(X_crossval)\n",
    "X_test_preprocessed = scaler.transform(X_test)"
   ]
  },
  {
   "cell_type": "markdown",
   "metadata": {},
   "source": [
    "## Training"
   ]
  },
  {
   "cell_type": "code",
   "execution_count": null,
   "metadata": {},
   "outputs": [],
   "source": [
    "# Fit model\n",
    "history = model_1layer.fit(\n",
    "    x=X_crossval_preprocessed,\n",
    "    y=y_crossval,\n",
    "    validation_split=0.2,\n",
    "    batch_size=32,\n",
    "    epochs=25,\n",
    "    shuffle=True,  # Shuffle training samples\n",
    ")"
   ]
  },
  {
   "cell_type": "code",
   "execution_count": null,
   "metadata": {},
   "outputs": [],
   "source": [
    "# Create two plots: one for the loss value, one for the accuracy\n",
    "fig, (ax1, ax2) = plt.subplots(nrows=1, ncols=2, figsize=(12, 4))\n",
    "\n",
    "# Plot accuracy values\n",
    "ax1.plot(history.history[\"loss\"], label=\"train loss\")\n",
    "ax1.plot(history.history[\"val_loss\"], label=\"val loss\")\n",
    "ax1.set_title(\n",
    "    \"Validation loss {:.3f} (mean last 3)\".format(\n",
    "        np.mean(history.history[\"val_loss\"][-3:])  # last three values\n",
    "    )\n",
    ")\n",
    "ax1.set_xlabel(\"epoch\")\n",
    "ax1.set_ylabel(\"loss value\")\n",
    "ax1.legend()\n",
    "\n",
    "# Plot accuracy values\n",
    "ax2.plot(history.history[\"acc\"], label=\"train acc\")\n",
    "ax2.plot(history.history[\"val_acc\"], label=\"val acc\")\n",
    "ax2.set_title(\n",
    "    \"Validation accuracy {:.3f} (mean last 3)\".format(\n",
    "        np.mean(history.history[\"val_acc\"][-3:])  # last three values\n",
    "    )\n",
    ")\n",
    "ax2.set_xlabel(\"epoch\")\n",
    "ax2.set_ylabel(\"accuracy\")\n",
    "ax2.legend()\n",
    "plt.show()"
   ]
  },
  {
   "cell_type": "code",
   "execution_count": null,
   "metadata": {},
   "outputs": [],
   "source": [
    "print('Model Accuracy:')\n",
    "loss, accuracy = model_1layer.evaluate(X_train, y_train, verbose=0)\n",
    "print(f'On train set: {accuracy:.3f}')\n",
    "loss, accuracy = model_1layer.evaluate(X_val, y_val, verbose=0)\n",
    "print(f'On valid set: {accuracy:.3f}')\n",
    "loss, accuracy = model_1layer.evaluate(X_test, y_test, verbose=0)\n",
    "print(f'On test  set: {accuracy:.3f}')"
   ]
  },
  {
   "cell_type": "markdown",
   "metadata": {},
   "source": [
    "# 2-layer model"
   ]
  },
  {
   "cell_type": "code",
   "execution_count": null,
   "metadata": {},
   "outputs": [],
   "source": [
    "y_train.shape"
   ]
  },
  {
   "cell_type": "code",
   "execution_count": null,
   "metadata": {},
   "outputs": [],
   "source": [
    "model_2layer = Sequential()\n",
    "model_2layer.add(Dense(10, activation=\"relu\", input_dim=X_train.shape[1],\n",
    "                kernel_initializer=VarianceScaling(scale=2.0, seed=0)))\n",
    "model_2layer.add(Dense(6, activation=\"softmax\", \n",
    "                kernel_initializer=VarianceScaling(scale=1.0, seed=0)))\n",
    "model_2layer.summary()"
   ]
  },
  {
   "cell_type": "code",
   "execution_count": null,
   "metadata": {},
   "outputs": [],
   "source": [
    "from tensorflow.keras import optimizers\n",
    "\n",
    "# Define loss function, optimizer and metrics to track during training\n",
    "model_2layer.compile(optimizer=\"sgd\",\n",
    "                     loss=\"categorical_crossentropy\",\n",
    "                     metrics=[\"acc\"])"
   ]
  },
  {
   "cell_type": "code",
   "execution_count": null,
   "metadata": {},
   "outputs": [],
   "source": [
    "# Fit model\n",
    "history = model_2layer.fit(x=X_crossval_preprocessed,\n",
    "                           y=y_crossval,\n",
    "                           validation_split=0.2,\n",
    "                           batch_size=32,\n",
    "                           epochs=50,\n",
    "                           shuffle=True,  # Shuffle training samples\n",
    ")"
   ]
  },
  {
   "cell_type": "code",
   "execution_count": null,
   "metadata": {},
   "outputs": [],
   "source": [
    "import matplotlib.pyplot as plt\n",
    "import numpy as np\n",
    "\n",
    "# Create two plots: one for the loss value, one for the accuracy\n",
    "fig, (ax1, ax2) = plt.subplots(nrows=1, ncols=2, figsize=(12, 4))\n",
    "\n",
    "# Plot accuracy values\n",
    "ax1.plot(history.history[\"loss\"], label=\"train loss\")\n",
    "ax1.plot(history.history[\"val_loss\"], label=\"val loss\")\n",
    "ax1.set_title('Validation loss {np.mean(history.history[\"val_loss\"][-3:]:.3f} (mean last 3)')\n",
    "ax1.set_xlabel(\"epoch\")\n",
    "ax1.set_ylabel(\"loss value\")\n",
    "ax1.legend()\n",
    "\n",
    "# Plot accuracy values\n",
    "ax2.plot(history.history[\"acc\"], label=\"train acc\")\n",
    "ax2.plot(history.history[\"val_acc\"], label=\"val acc\")\n",
    "ax2.set_title(f'Validation accuracy {np.mean(history.history[\"val_acc\"][-3:]):.3f} (mean last 3)')\n",
    "ax2.set_xlabel(\"epoch\")\n",
    "ax2.set_ylabel(\"accuracy\")\n",
    "ax2.legend()\n",
    "plt.show()"
   ]
  },
  {
   "cell_type": "code",
   "execution_count": null,
   "metadata": {},
   "outputs": [],
   "source": [
    "print('Model Accuracy:')\n",
    "loss, accuracy = model_2layer.evaluate(X_train, y_train, verbose=0)\n",
    "print(f'On train set: {accuracy:.3f}')\n",
    "loss, accuracy = model_2layer.evaluate(X_val, y_val, verbose=0)\n",
    "print(f'On valid set: {accuracy:.3f}')\n",
    "loss, accuracy = model_2layer.evaluate(X_test, y_test, verbose=0)\n",
    "print(f'On test  set: {accuracy:.3f}')"
   ]
  }
 ],
 "metadata": {
  "kernelspec": {
   "display_name": "adsml",
   "language": "python",
   "name": "python3"
  },
  "language_info": {
   "codemirror_mode": {
    "name": "ipython",
    "version": 3
   },
   "file_extension": ".py",
   "mimetype": "text/x-python",
   "name": "python",
   "nbconvert_exporter": "python",
   "pygments_lexer": "ipython3",
   "version": "3.9.18"
  }
 },
 "nbformat": 4,
 "nbformat_minor": 2
}
