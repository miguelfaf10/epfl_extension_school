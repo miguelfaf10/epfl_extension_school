{
 "cells": [
  {
   "cell_type": "code",
   "execution_count": null,
   "metadata": {},
   "outputs": [],
   "source": [
    "import numpy as np\n",
    "\n",
    "# Load the .npz file\n",
    "data = np.load('dataset_features.npz')\n",
    "\n",
    "# List all arrays within the .npz file\n",
    "print(data.files)\n",
    "\n",
    "# Access individual arrays by their names\n",
    "trainset_features = data['trainset_features']\n",
    "trainset_labels = data['trainset_labels']\n",
    "class_labels = data['class_labels']\n",
    "\n",
    "X = trainset_features\n",
    "y = trainset_labels\n",
    "\n",
    "X.shape"
   ]
  },
  {
   "cell_type": "code",
   "execution_count": null,
   "metadata": {},
   "outputs": [],
   "source": [
    "from sklearn.decomposition import PCA\n",
    "from sklearn.preprocessing import StandardScaler\n",
    "\n",
    "scaler = StandardScaler()\n",
    "\n",
    "X_rescaled = scaler.fit_transform(X)\n",
    "\n",
    "# Create PCA transformer\n",
    "pca = PCA(n_components=None)\n",
    "\n",
    "# Fit model to rescaled data\n",
    "pca.fit(X_rescaled)\n",
    "\n",
    "pve = pca.explained_variance_ratio_\n",
    "print(f'Total number of PCA components  : {len(pve)}')\n",
    "print(f'Value of first 5 PCA components : {pve[:5]}')"
   ]
  },
  {
   "cell_type": "code",
   "execution_count": null,
   "metadata": {},
   "outputs": [],
   "source": [
    "import matplotlib.pyplot as plt\n",
    "\n",
    "plt.figure(figsize=(13,5))\n",
    "\n",
    "# Create bar plot\n",
    "xcor = np.arange(1, len(pve) + 1)  # 1,2,..,n_components\n",
    "plt.bar(xcor, pve)\n",
    "plt.xticks(xcor)\n",
    "\n",
    "# Add cumulative sum\n",
    "pve_cumsum = np.cumsum(pve)\n",
    "plt.step(\n",
    "    xcor + 0.5,  # 1.5,2.5,..,n_components+0.5\n",
    "    pve_cumsum,  # Cumulative sum\n",
    "    label=\"cumulative\",\n",
    ")\n",
    "\n",
    "# Add labels\n",
    "plt.xlabel(\"principal component\")\n",
    "plt.ylabel(\"proportion of variance explained\")\n",
    "plt.legend()\n",
    "plt.show()"
   ]
  },
  {
   "cell_type": "code",
   "execution_count": null,
   "metadata": {},
   "outputs": [],
   "source": [
    "for var_percent in np.arange(10,100,10):\n",
    "\n",
    "    print(f'Components explaining {var_percent}% of variance: {np.argmax(pve_cumsum > var_percent/100)+1}')"
   ]
  },
  {
   "cell_type": "markdown",
   "metadata": {},
   "source": [
    "For explaining 100% of the variance in the dataset we need all the 152 PCA components."
   ]
  },
  {
   "cell_type": "code",
   "execution_count": null,
   "metadata": {},
   "outputs": [],
   "source": [
    "# Create PCA transformer\n",
    "pca2 = PCA(n_components=2)\n",
    "\n",
    "# Fit model to rescaled data\n",
    "X_pca_transformed = pca.transform(X_rescaled)\n"
   ]
  },
  {
   "cell_type": "code",
   "execution_count": null,
   "metadata": {},
   "outputs": [],
   "source": [
    "label_map = dict(zip(range(len(class_labels)),class_labels))"
   ]
  },
  {
   "cell_type": "code",
   "execution_count": null,
   "metadata": {},
   "outputs": [],
   "source": [
    "plt.figure(figsize=(8,5))\n",
    "\n",
    "# Decode one-hot encoded labels to single integer labels\n",
    "trainset_labels_decoded = np.argmax(trainset_labels, axis=1)\n",
    "\n",
    "for label in range(len(label_map)):\n",
    "    # Images of this digit\n",
    "    idx = trainset_labels_decoded == label\n",
    "\n",
    "    # Plot images\n",
    "    plt.scatter(\n",
    "        X_pca_transformed[idx, 0],\n",
    "        X_pca_transformed[idx, 1],\n",
    "        s=20,  # Size of each marker\n",
    "        label = label_map[label]\n",
    "    )\n",
    "plt.legend()"
   ]
  },
  {
   "cell_type": "markdown",
   "metadata": {},
   "source": [
    "We can see that just the first two PCA components aleady allows for a good separation of the categories (car, bike, motorcycle). However, for the remaining "
   ]
  }
 ],
 "metadata": {
  "kernelspec": {
   "display_name": "adsml",
   "language": "python",
   "name": "python3"
  },
  "language_info": {
   "codemirror_mode": {
    "name": "ipython",
    "version": 3
   },
   "file_extension": ".py",
   "mimetype": "text/x-python",
   "name": "python",
   "nbconvert_exporter": "python",
   "pygments_lexer": "ipython3",
   "version": "3.9.18"
  }
 },
 "nbformat": 4,
 "nbformat_minor": 2
}
