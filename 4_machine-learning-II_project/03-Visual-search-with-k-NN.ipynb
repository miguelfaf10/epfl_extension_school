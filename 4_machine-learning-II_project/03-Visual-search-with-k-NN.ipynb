{
 "cells": [
  {
   "cell_type": "markdown",
   "metadata": {},
   "source": [
    "# 3. Visual search with k-NN"
   ]
  },
  {
   "cell_type": "markdown",
   "metadata": {},
   "source": [
    "## Loading Image datasetset"
   ]
  },
  {
   "cell_type": "code",
   "execution_count": null,
   "metadata": {},
   "outputs": [],
   "source": [
    "import numpy as np\n",
    "\n",
    "# Load the .npz file\n",
    "data = np.load('dataset_features.npz')\n",
    "\n",
    "# List all arrays within the .npz file\n",
    "print(data.files)\n",
    "\n",
    "# Access individual arrays by their names\n",
    "X_train = data['trainset_features']\n",
    "y_train = data['trainset_labels']\n",
    "\n",
    "X_val = data['validset_features']\n",
    "y_val = data['validset_labels']\n",
    "\n",
    "X_test = data['testset_features']\n",
    "y_test = data['testset_labels']\n",
    "\n",
    "class_labels = data['class_labels']\n"
   ]
  },
  {
   "cell_type": "code",
   "execution_count": null,
   "metadata": {},
   "outputs": [],
   "source": [
    "from sklearn.neighbors import KNeighborsClassifier\n",
    "from sklearn.preprocessing import StandardScaler\n",
    "from sklearn.pipeline import Pipeline\n",
    "\n",
    "# Create a k-NN pipeline\n",
    "knn_pipe = Pipeline(\n",
    "    [(\"scaler\", StandardScaler()), \n",
    "     (\"knn\", KNeighborsClassifier(n_neighbors=7))]\n",
    ")"
   ]
  },
  {
   "cell_type": "code",
   "execution_count": null,
   "metadata": {},
   "outputs": [],
   "source": [
    "import pandas as pd\n",
    "\n",
    "# Variable to store the results\n",
    "gs_results = []\n",
    "\n",
    "# Generate a set of k values\n",
    "k_values = np.arange(1, 50, step=1)\n",
    "\n",
    "# Grid search\n",
    "for k in k_values:\n",
    "    # Fit k-NN model\n",
    "    knn_pipe.set_params(knn__n_neighbors=k)\n",
    "    knn_pipe.fit(X_train, y_train)\n",
    "\n",
    "    # Save model and its performance on training/validation sets\n",
    "    gs_results.append(\n",
    "        {\n",
    "            \"k\": k,\n",
    "            \"train_accuracy\": knn_pipe.score(X_train, y_train),\n",
    "            \"valid_accuracy\": knn_pipe.score(X_val, y_val),\n",
    "        }\n",
    "    )\n",
    "\n",
    "# Convert results to DataFrame\n",
    "gs_results = pd.DataFrame(gs_results)\n",
    "gs_results.sort_values(by=\"valid_accuracy\", ascending=False).head()"
   ]
  },
  {
   "cell_type": "code",
   "execution_count": null,
   "metadata": {},
   "outputs": [],
   "source": [
    "import matplotlib.pyplot as plt\n",
    "\n",
    "# Plot the validation curves\n",
    "plt.plot(gs_results[\"k\"], gs_results[\"train_accuracy\"], label=\"train curve\")\n",
    "plt.plot(gs_results[\"k\"], gs_results[\"valid_accuracy\"], label=\"validation curve\")\n",
    "plt.ylabel(\"accuracy\")\n",
    "plt.xlabel(\"k\")\n",
    "plt.grid(True)\n",
    "plt.legend()"
   ]
  },
  {
   "cell_type": "markdown",
   "metadata": {},
   "source": [
    "Low values of k, present high training accuracy, but in this region we're overfitting as can be seen by the accuracy gap between training and validation sets.\n",
    "\n",
    "For higher k, both training and validation sets accuracy decreases since we're now underfitting and increasing the model variance. \n",
    "\n",
    "Tuned classifier that maximizes the accuracy in validation set has k=7"
   ]
  },
  {
   "cell_type": "code",
   "execution_count": null,
   "metadata": {},
   "outputs": [],
   "source": [
    "# Create a k-NN pipeline\n",
    "knn_pipe_tuned = Pipeline(\n",
    "    [(\"scaler\", StandardScaler()), \n",
    "     (\"knn\", KNeighborsClassifier(n_neighbors=5))]\n",
    ")\n",
    "\n",
    "knn_pipe_tuned.fit(X_train, y_train)"
   ]
  },
  {
   "cell_type": "markdown",
   "metadata": {},
   "source": [
    "## Scores of tuned model"
   ]
  },
  {
   "cell_type": "code",
   "execution_count": null,
   "metadata": {},
   "outputs": [],
   "source": [
    "print('Model Accuracy:')\n",
    "acc_train = knn_pipe_tuned.score(X_train, y_train)\n",
    "print(f'On train set: {acc_train:.3f}')\n",
    "acc_val = knn_pipe_tuned.score(X_val, y_val)\n",
    "print(f'On valid set: {acc_val:.3f}')\n",
    "acc_test = knn_pipe_tuned.score(X_test, y_test)\n",
    "print(f'On test  set: {acc_test:.3f}')"
   ]
  },
  {
   "cell_type": "code",
   "execution_count": null,
   "metadata": {},
   "outputs": [],
   "source": [
    "import pandas as pd\n",
    "import pickle\n",
    "\n",
    "results_accuracy = pd.DataFrame({'model':['k-nn'], 'test_accuracy':[acc_test]})\n",
    "\n",
    "with open('model_accuracy.pickle', 'wb') as file:\n",
    "    pickle.dump(results_accuracy, file)"
   ]
  },
  {
   "cell_type": "markdown",
   "metadata": {},
   "source": [
    "## Classification Report"
   ]
  },
  {
   "cell_type": "code",
   "execution_count": null,
   "metadata": {},
   "outputs": [],
   "source": [
    "from sklearn.metrics import classification_report\n",
    "\n",
    "# Classification report\n",
    "y_test_preds = knn_pipe_tuned.predict(X_test)\n",
    "\n",
    "print(classification_report(y_true=y_test, y_pred=y_test_preds, target_names=class_labels))"
   ]
  },
  {
   "cell_type": "markdown",
   "metadata": {},
   "source": [
    "Precision: Measures the accuracy of positive predictions for each class. It is the proportion of true positives out of all instances classified as that class. \n",
    "\n",
    "Recall: Measures the ability of the classifier to identify all true positives for each class. It is the proportion of true positives out of all actual instances of that class. \n",
    "\n",
    "Support: The number of actual instances in each class. Categories like bike (33), car (32), and motorcycle (25) have a higher number of samples, which typically leads to more reliable metrics."
   ]
  },
  {
   "cell_type": "markdown",
   "metadata": {},
   "source": [
    "## Confusion Matrix"
   ]
  },
  {
   "cell_type": "code",
   "execution_count": null,
   "metadata": {},
   "outputs": [],
   "source": [
    "from sklearn.metrics import confusion_matrix\n",
    "import seaborn as sns\n",
    "\n",
    "# Define class labels\n",
    "class_labels = ['bike', 'car', 'motorcycle', 'other', 'truck', 'van']\n",
    "\n",
    "y_test_decoded = np.argmax(y_test, axis=1)\n",
    "y_pred_decoded = np.argmax(y_test_preds, axis=1)\n",
    "\n",
    "# Compute the confusion matrix\n",
    "cm = confusion_matrix(y_test_decoded, y_pred_decoded)\n",
    "\n",
    "# Plot confusion matrix as heatmap\n",
    "plt.figure(figsize=(8, 6))\n",
    "sns.heatmap(cm, annot=True, xticklabels=class_labels, yticklabels=class_labels)\n",
    "plt.xlabel(\"Predicted Label\")\n",
    "plt.ylabel(\"True Label\")\n",
    "plt.title(\"Confusion Matrix of Test Dataset\")\n",
    "plt.show()"
   ]
  },
  {
   "cell_type": "markdown",
   "metadata": {},
   "source": [
    "## Correct classifications and nearest neighbours"
   ]
  },
  {
   "cell_type": "code",
   "execution_count": null,
   "metadata": {},
   "outputs": [],
   "source": [
    "import numpy as np\n",
    "\n",
    "# Find the correctly classified test images\n",
    "correct_indices = np.where(y_test_decoded == y_pred_decoded)[0]\n",
    "print(f'Number of correctly classified images: {len(correct_indices)}')"
   ]
  },
  {
   "cell_type": "code",
   "execution_count": null,
   "metadata": {},
   "outputs": [],
   "source": [
    "from tensorflow.keras.preprocessing.image import ImageDataGenerator\n",
    "\n",
    "# Define image size and scaling\n",
    "image_size = (224, 224)\n",
    "batch_size = 32\n",
    "\n",
    "datagen = ImageDataGenerator(rescale=1./255)  # Adjust rescaling if needed\n",
    "test_images = datagen.flow_from_directory('./test', target_size=image_size, batch_size=batch_size, shuffle=False)\n",
    "train_images = datagen.flow_from_directory('./train', target_size=image_size, batch_size=batch_size, shuffle=False)"
   ]
  },
  {
   "cell_type": "markdown",
   "metadata": {},
   "source": [
    "Select an image index"
   ]
  },
  {
   "cell_type": "code",
   "execution_count": null,
   "metadata": {},
   "outputs": [],
   "source": [
    "from util import get_image_by_index\n",
    "\n",
    "idx = 10\n",
    "chosen_index = correct_indices[idx]\n",
    "\n",
    "image, label = get_image_by_index(test_images, chosen_index)\n",
    "plt.imshow(image)\n",
    "print(f'Selection of correctly classified image')\n",
    "print(f'Index: {chosen_index}')\n",
    "print(f'Label: {class_labels[label]}')"
   ]
  },
  {
   "cell_type": "markdown",
   "metadata": {},
   "source": [
    "Let's now find the nearest image entries to selected test imageset"
   ]
  },
  {
   "cell_type": "code",
   "execution_count": null,
   "metadata": {},
   "outputs": [],
   "source": [
    "scaler = knn_pipe_tuned.named_steps['scaler']\n",
    "knn = knn_pipe_tuned.named_steps['knn']\n",
    "\n",
    "knn_scale = Pipeline(\n",
    "    [(\"scaler\", scaler), \n",
    "     ]\n",
    ")\n",
    "\n",
    "X_test_transf = knn_scale.transform(X_test)"
   ]
  },
  {
   "cell_type": "code",
   "execution_count": null,
   "metadata": {},
   "outputs": [],
   "source": [
    "from sklearn.neighbors import NearestNeighbors\n",
    "\n",
    "nearest_distances, nearest_indices = knn.kneighbors(X_test_transf[chosen_index,:].reshape(1, -1), n_neighbors=10)\n",
    "\n",
    "nearest_distances = nearest_distances[0]\n",
    "nearest_indices = nearest_indices[0]\n",
    "\n",
    "print(f'Nearest distances: {nearest_distances}')\n",
    "print(f'Nearest indices  : {nearest_indices}')"
   ]
  },
  {
   "cell_type": "code",
   "execution_count": null,
   "metadata": {},
   "outputs": [],
   "source": [
    "# Plot the chosen test image\n",
    "fig, axes = plt.subplots(1, 11, figsize=(20, 2.5))\n",
    "\n",
    "chosen_image, chosen_label = get_image_by_index(test_images, chosen_index)\n",
    "axes[0].imshow(chosen_image)\n",
    "axes[0].set_title(\"Test Image\")\n",
    "axes[0].axis(\"off\")\n",
    "\n",
    "# Plot the 10 nearest neighbors from the training set\n",
    "for i, nearest_index in enumerate(nearest_indices, start=1):\n",
    "       \n",
    "    nearest_image, nearest_label = get_image_by_index(train_images, nearest_index)\n",
    "    axes[i].imshow(nearest_image)\n",
    "    axes[i].set_title(f\"d: {nearest_distances[i-1]:.0f}\")  \n",
    "    axes[i].axis(\"off\")\n",
    "\n",
    "plt.suptitle(\"10 Nearest Neighbors of a Correctly Classified Test Image\")\n",
    "plt.show()\n"
   ]
  },
  {
   "cell_type": "markdown",
   "metadata": {},
   "source": [
    "## Incorrect classifications and nearest neighbours"
   ]
  },
  {
   "cell_type": "code",
   "execution_count": null,
   "metadata": {},
   "outputs": [],
   "source": [
    "# Find the incorrectly classified test images\n",
    "incorrect_indices = np.where(y_test_decoded != y_pred_decoded)[0]\n",
    "print(f'Number of incorrectly classified images: {len(incorrect_indices)}')"
   ]
  },
  {
   "cell_type": "markdown",
   "metadata": {},
   "source": [
    "Select an image index"
   ]
  },
  {
   "cell_type": "code",
   "execution_count": null,
   "metadata": {},
   "outputs": [],
   "source": [
    "idx = 0\n",
    "chosen_index = incorrect_indices[idx]\n",
    "\n",
    "image, label = get_image_by_index(test_images, chosen_index)\n",
    "plt.imshow(image)\n",
    "print(f'Selection of correctly classified image')\n",
    "print(f'Index: {chosen_index}')\n",
    "print(f'Label: {class_labels[label]}')"
   ]
  },
  {
   "cell_type": "markdown",
   "metadata": {},
   "source": [
    "Let's now find the nearest image entries to selected test imageset"
   ]
  },
  {
   "cell_type": "code",
   "execution_count": null,
   "metadata": {},
   "outputs": [],
   "source": [
    "from sklearn.neighbors import NearestNeighbors\n",
    "\n",
    "nearest_distances, nearest_indices = knn.kneighbors(X_test_transf[chosen_index,:].reshape(1, -1), n_neighbors=10)\n",
    "\n",
    "nearest_distances = nearest_distances[0]\n",
    "nearest_indices = nearest_indices[0]\n",
    "\n",
    "print(f'Nearest distances: {nearest_distances}')\n",
    "print(f'Nearest indices  : {nearest_indices}')"
   ]
  },
  {
   "cell_type": "code",
   "execution_count": null,
   "metadata": {},
   "outputs": [],
   "source": [
    "# Plot the chosen test image\n",
    "fig, axes = plt.subplots(1, 11, figsize=(20, 2.5))\n",
    "\n",
    "chosen_image, chosen_label = get_image_by_index(test_images, chosen_index)\n",
    "axes[0].imshow(chosen_image)\n",
    "axes[0].set_title(\"Test Image\")\n",
    "axes[0].axis(\"off\")\n",
    "\n",
    "# Plot the 10 nearest neighbors from the training set\n",
    "for i, nearest_index in enumerate(nearest_indices, start=1):\n",
    "       \n",
    "    nearest_image, nearest_label = get_image_by_index(train_images, nearest_index)\n",
    "    axes[i].imshow(nearest_image)\n",
    "    axes[i].set_title(f\"d: {nearest_distances[i-1]:.0f}\")  \n",
    "    axes[i].axis(\"off\")\n",
    "\n",
    "plt.suptitle(\"10 Nearest Neighbors of a Correctly Classified Test Image\")\n",
    "plt.show()\n"
   ]
  }
 ],
 "metadata": {
  "kernelspec": {
   "display_name": "adsml",
   "language": "python",
   "name": "python3"
  },
  "language_info": {
   "codemirror_mode": {
    "name": "ipython",
    "version": 3
   },
   "file_extension": ".py",
   "mimetype": "text/x-python",
   "name": "python",
   "nbconvert_exporter": "python",
   "pygments_lexer": "ipython3",
   "version": "3.9.18"
  }
 },
 "nbformat": 4,
 "nbformat_minor": 2
}
