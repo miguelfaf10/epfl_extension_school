{
 "cells": [
  {
   "cell_type": "markdown",
   "metadata": {},
   "source": [
    "# 6. Suport Vector Machine"
   ]
  },
  {
   "cell_type": "code",
   "execution_count": null,
   "metadata": {},
   "outputs": [],
   "source": [
    "from util import get_image_by_index, decode_class\n",
    "import numpy as np\n",
    "import pandas as pd\n",
    "import matplotlib.pyplot as plt\n",
    "from tensorflow.keras.preprocessing.image import ImageDataGenerator\n",
    "from sklearn.svm import SVC"
   ]
  },
  {
   "cell_type": "code",
   "execution_count": null,
   "metadata": {},
   "outputs": [],
   "source": [
    "# Load the .npz file\n",
    "data = np.load('dataset_features.npz')\n",
    "\n",
    "# List all arrays within the .npz file\n",
    "print(data.files)\n",
    "\n",
    "# Access individual arrays by their names\n",
    "X_train = data['trainset_features']\n",
    "y_train = data['trainset_labels']\n",
    "\n",
    "X_val = data['validset_features']\n",
    "y_val = data['validset_labels']\n",
    "\n",
    "X_test = data['testset_features']\n",
    "y_test = data['testset_labels']\n",
    "\n",
    "class_labels = data['class_labels']"
   ]
  },
  {
   "cell_type": "code",
   "execution_count": null,
   "metadata": {},
   "outputs": [],
   "source": [
    "# Create SVM with linear kernel\n",
    "svc_linear = SVC(kernel='linear')\n",
    "\n",
    "# Fit estimator\n",
    "svc_linear.fit(X_train, decode_class(y_train))"
   ]
  },
  {
   "cell_type": "code",
   "execution_count": null,
   "metadata": {},
   "outputs": [],
   "source": [
    "print('Model Accuracy:')\n",
    "accuracy = svc_linear.score(X_train, decode_class(y_train))\n",
    "print(f'On train set: {accuracy:.3f}')\n",
    "accuracy = svc_linear.score(X_val, decode_class(y_val))\n",
    "print(f'On valid set: {accuracy:.3f}')\n",
    "accuracy = svc_linear.score(X_test, decode_class(y_test))\n",
    "print(f'On test  set: {accuracy:.3f}')"
   ]
  },
  {
   "cell_type": "markdown",
   "metadata": {},
   "source": [
    "## SVM classifier with RBF kernel"
   ]
  },
  {
   "cell_type": "code",
   "execution_count": null,
   "metadata": {},
   "outputs": [],
   "source": [
    "# Create SVM with RBF kernel\n",
    "svc_rbf = SVC(kernel='rbf', C=1, probability=True)\n",
    "\n",
    "# Fit estimator\n",
    "svc_rbf.fit(X_train, decode_class(y_train))"
   ]
  },
  {
   "cell_type": "code",
   "execution_count": null,
   "metadata": {},
   "outputs": [],
   "source": [
    "print('Model Accuracy:')\n",
    "accuracy = svc_rbf.score(X_train, decode_class(y_train))\n",
    "print(f'On train set: {accuracy:.3f}')\n",
    "accuracy = svc_rbf.score(X_val, decode_class(y_val))\n",
    "print(f'On valid set: {accuracy:.3f}')\n",
    "accuracy = svc_rbf.score(X_test, decode_class(y_test))\n",
    "print(f'On test  set: {accuracy:.3f}')"
   ]
  },
  {
   "cell_type": "markdown",
   "metadata": {},
   "source": [
    "The classifier with the RBF kernel performs similarly to the one with the linear kernel. "
   ]
  },
  {
   "cell_type": "markdown",
   "metadata": {},
   "source": [
    "## Compute image probability"
   ]
  },
  {
   "cell_type": "code",
   "execution_count": null,
   "metadata": {},
   "outputs": [],
   "source": [
    "# Define image size and scaling\n",
    "image_size = (224, 224)\n",
    "batch_size = 32\n",
    "\n",
    "datagen = ImageDataGenerator(rescale=1./255)  # Adjust rescaling if needed\n",
    "test_images = datagen.flow_from_directory('./test', target_size=image_size, batch_size=batch_size, shuffle=False)"
   ]
  },
  {
   "cell_type": "code",
   "execution_count": null,
   "metadata": {},
   "outputs": [],
   "source": [
    "random_indices = np.random.choice(test_images.n, 10, replace=False)  # Select 10 random indices  \n",
    "probabilities = []\n",
    "\n",
    "for idx in random_indices:\n",
    "    image, label = get_image_by_index(test_images, idx)\n",
    "    probabilities.append(svc_rbf.predict_proba(X_test[idx,:].reshape(1,-1))[0]) "
   ]
  },
  {
   "cell_type": "code",
   "execution_count": null,
   "metadata": {},
   "outputs": [],
   "source": [
    "# Plot the images and probabilities\n",
    "fig, axes = plt.subplots(1, 10, figsize=(20, 10))  # 2 rows, 5 columns\n",
    "for k, idx in enumerate(random_indices):\n",
    "    # Plot the image\n",
    "    axes[k].imshow(get_image_by_index(test_images, idx)[0])  # Adjust reshape for image dimensions\n",
    "    axes[k].set_title(test_images.filenames[idx].split('/')[1])\n",
    "    axes[k].axis('off')\n",
    "\n",
    "plt.tight_layout()\n",
    "\n",
    "# Create a DataFrame to store probabilities and their corresponding categories\n",
    "categories = class_labels  # Replace with actual category names if available\n",
    "probs_df = pd.DataFrame(probabilities, columns=categories)\n",
    "probs_df\n"
   ]
  },
  {
   "cell_type": "markdown",
   "metadata": {},
   "source": [
    "## Regularization parameter C = 0.0001"
   ]
  },
  {
   "cell_type": "code",
   "execution_count": null,
   "metadata": {},
   "outputs": [],
   "source": [
    "# Create SVM with RBF kernel\n",
    "svc_rbf = SVC(kernel='rbf', C=0.0001, probability=True)\n",
    "\n",
    "# Fit estimator\n",
    "svc_rbf.fit(X_train, decode_class(y_train))\n",
    "\n",
    "probabilities = []\n",
    "for idx in random_indices:\n",
    "    image, label = get_image_by_index(test_images, idx)\n",
    "    probabilities.append(svc_rbf.predict_proba(X_test[idx,:].reshape(1,-1))[0]) "
   ]
  },
  {
   "cell_type": "code",
   "execution_count": null,
   "metadata": {},
   "outputs": [],
   "source": [
    "# Plot the images and probabilities\n",
    "fig, axes = plt.subplots(1, 10, figsize=(20, 10))  # 2 rows, 5 columns\n",
    "for k, idx in enumerate(random_indices):\n",
    "    # Plot the image\n",
    "    axes[k].imshow(get_image_by_index(test_images, idx)[0])  # Adjust reshape for image dimensions\n",
    "    axes[k].set_title(test_images.filenames[idx].split('/')[1])\n",
    "    axes[k].axis('off')\n",
    "\n",
    "plt.tight_layout()\n",
    "\n",
    "# Create a DataFrame to store probabilities and their corresponding categories\n",
    "categories = class_labels  # Replace with actual category names if available\n",
    "probs_df = pd.DataFrame(probabilities, columns=categories)\n",
    "probs_df"
   ]
  },
  {
   "cell_type": "markdown",
   "metadata": {},
   "source": [
    "## Regularization parameter C = 1000"
   ]
  },
  {
   "cell_type": "code",
   "execution_count": null,
   "metadata": {},
   "outputs": [],
   "source": [
    "# Create SVM with RBF kernel\n",
    "svc_rbf = SVC(kernel='rbf', C=1000, probability=True)\n",
    "\n",
    "# Fit estimator\n",
    "svc_rbf.fit(X_train, decode_class(y_train))\n",
    "\n",
    "probabilities = []\n",
    "for idx in random_indices:\n",
    "    image, label = get_image_by_index(test_images, idx)\n",
    "    probabilities.append(svc_rbf.predict_proba(X_test[idx,:].reshape(1,-1))[0]) "
   ]
  },
  {
   "cell_type": "code",
   "execution_count": null,
   "metadata": {},
   "outputs": [],
   "source": [
    "# Plot the images and probabilities\n",
    "fig, axes = plt.subplots(1, 10, figsize=(20, 10))  # 2 rows, 5 columns\n",
    "for k, idx in enumerate(random_indices):\n",
    "    # Plot the image\n",
    "    axes[k].imshow(get_image_by_index(test_images, idx)[0])  # Adjust reshape for image dimensions\n",
    "    axes[k].set_title(test_images.filenames[idx].split('/')[1])\n",
    "    axes[k].axis('off')\n",
    "\n",
    "plt.tight_layout()\n",
    "\n",
    "# Create a DataFrame to store probabilities and their corresponding categories\n",
    "categories = class_labels  # Replace with actual category names if available\n",
    "probs_df = pd.DataFrame(probabilities, columns=categories)\n",
    "probs_df"
   ]
  },
  {
   "cell_type": "code",
   "execution_count": null,
   "metadata": {},
   "outputs": [],
   "source": []
  }
 ],
 "metadata": {
  "kernelspec": {
   "display_name": "adsml",
   "language": "python",
   "name": "python3"
  },
  "language_info": {
   "codemirror_mode": {
    "name": "ipython",
    "version": 3
   },
   "file_extension": ".py",
   "mimetype": "text/x-python",
   "name": "python",
   "nbconvert_exporter": "python",
   "pygments_lexer": "ipython3",
   "version": "3.9.18"
  }
 },
 "nbformat": 4,
 "nbformat_minor": 2
}
