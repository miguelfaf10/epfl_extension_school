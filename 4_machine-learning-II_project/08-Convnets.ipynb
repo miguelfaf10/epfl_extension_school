{
 "cells": [
  {
   "cell_type": "markdown",
   "metadata": {},
   "source": [
    "# 8. Convolution Neural Network"
   ]
  },
  {
   "cell_type": "markdown",
   "metadata": {},
   "source": [
    "## Loading Image datasetset"
   ]
  },
  {
   "cell_type": "code",
   "execution_count": null,
   "metadata": {},
   "outputs": [],
   "source": [
    "import numpy as np\n",
    "from tensorflow.keras.preprocessing.image import ImageDataGenerator\n",
    "\n",
    "# Define image size and scaling\n",
    "image_size = (224, 224)\n",
    "batch_size = 10\n",
    "\n",
    "datagen = ImageDataGenerator(rescale=1./255)  # Adjust rescaling if needed\n",
    "trainset = datagen.flow_from_directory('./train', target_size=image_size, batch_size=batch_size, shuffle=True, seed=0)\n",
    "validset = datagen.flow_from_directory('./valid', target_size=image_size, batch_size=batch_size, shuffle=True, seed=0)\n",
    "testset = datagen.flow_from_directory('./test', target_size=image_size, batch_size=batch_size, shuffle=True, seed=0)"
   ]
  },
  {
   "cell_type": "markdown",
   "metadata": {},
   "source": [
    "## Convolutional Neural Network model"
   ]
  },
  {
   "cell_type": "code",
   "execution_count": null,
   "metadata": {},
   "outputs": [],
   "source": [
    "import tensorflow.keras as keras\n",
    "\n",
    "# Convolutional Network\n",
    "model_cnn = keras.Sequential()\n",
    "model_cnn.add(keras.layers.Conv2D(filters=30, \n",
    "                              kernel_size=5, \n",
    "                              strides=2, \n",
    "                              activation=\"relu\",\n",
    "                              input_shape=(*image_size, 3)))\n",
    "model_cnn.add(keras.layers.MaxPool2D(pool_size=2))\n",
    "model_cnn.add(keras.layers.Conv2D(filters=10, \n",
    "                              kernel_size=3, \n",
    "                              strides=1, \n",
    "                              activation=\"relu\"))\n",
    "model_cnn.add(keras.layers.MaxPool2D(pool_size=2))\n",
    "model_cnn.add(keras.layers.Flatten())\n",
    "model_cnn.add(keras.layers.Dense(units=trainset.num_classes, \n",
    "                             activation=\"softmax\"))\n",
    "model_cnn.summary()"
   ]
  },
  {
   "cell_type": "code",
   "execution_count": null,
   "metadata": {},
   "outputs": [],
   "source": [
    "# Compile the model_cnn_cnn\n",
    "model_cnn.compile(optimizer=keras.optimizers.Adam(),\n",
    "              loss=\"categorical_crossentropy\",\n",
    "              metrics=[\"acc\"])"
   ]
  },
  {
   "cell_type": "code",
   "execution_count": null,
   "metadata": {},
   "outputs": [],
   "source": [
    "# End training when accuracy stops improving (optional)\n",
    "early_stopping = keras.callbacks.EarlyStopping(monitor=\"loss_val\", patience=6)"
   ]
  },
  {
   "cell_type": "code",
   "execution_count": null,
   "metadata": {},
   "outputs": [],
   "source": [
    "# Train model\n",
    "history = model_cnn.fit(\n",
    "    trainset, validation_data=validset, epochs=50, callbacks=[early_stopping]\n",
    ")"
   ]
  },
  {
   "cell_type": "code",
   "execution_count": null,
   "metadata": {},
   "outputs": [],
   "source": [
    "%matplotlib inline\n",
    "import matplotlib.pyplot as plt\n",
    "\n",
    "fig, (ax1, ax2) = plt.subplots(nrows=1, ncols=2, figsize=(12, 4))\n",
    "\n",
    "# Plot loss values\n",
    "ax1.plot(history.history[\"val_loss\"], label=\"validation\")\n",
    "ax1.plot(history.history[\"loss\"], label=\"training\")\n",
    "ax1.legend()\n",
    "\n",
    "# plot accuracy values\n",
    "ax2.plot(history.history[\"val_acc\"], label=\"validation\")\n",
    "ax2.plot(history.history[\"acc\"], label=\"training\")\n",
    "ax2.legend()\n",
    "\n",
    "plt.show()"
   ]
  },
  {
   "cell_type": "markdown",
   "metadata": {},
   "source": [
    "## Training same model with augmented dataset"
   ]
  },
  {
   "cell_type": "code",
   "execution_count": null,
   "metadata": {},
   "outputs": [],
   "source": [
    "# Define image size and scaling\n",
    "image_size = (224, 224)\n",
    "batch_size = 32\n",
    "\n",
    "# Define the data augmentation transformations\n",
    "datagen_train = ImageDataGenerator(\n",
    "    rescale=1./255,          # Normalize pixel values to [0, 1]\n",
    "    rotation_range=40,       # Randomly rotate images by up to 40 degrees\n",
    "    zoom_range=0.2,          # Randomly zoom into images by up to 20%\n",
    "    horizontal_flip=True,    # Randomly flip images horizontally\n",
    "    fill_mode='nearest'      # Fill in pixels when transformations require them\n",
    ")\n",
    "\n",
    "trainset_augmented = datagen_train.flow_from_directory('./train', target_size=image_size, batch_size=batch_size, shuffle=True, seed=0)"
   ]
  },
  {
   "cell_type": "code",
   "execution_count": null,
   "metadata": {},
   "outputs": [],
   "source": [
    "model_cnn = keras.Sequential()\n",
    "model_cnn.add(keras.layers.Conv2D(filters=30, \n",
    "                              kernel_size=5, \n",
    "                              strides=2, \n",
    "                              activation=\"relu\",\n",
    "                              input_shape=(*image_size, 3)))\n",
    "model_cnn.add(keras.layers.MaxPool2D(pool_size=2))\n",
    "model_cnn.add(keras.layers.Conv2D(filters=10, \n",
    "                              kernel_size=3, \n",
    "                              strides=1, \n",
    "                              activation=\"relu\"))\n",
    "model_cnn.add(keras.layers.MaxPool2D(pool_size=2))\n",
    "model_cnn.add(keras.layers.Flatten())\n",
    "model_cnn.add(keras.layers.Dense(units=trainset.num_classes, \n",
    "                             activation=\"softmax\"))\n",
    "model_cnn.summary()"
   ]
  },
  {
   "cell_type": "code",
   "execution_count": null,
   "metadata": {},
   "outputs": [],
   "source": [
    "# Compile the model_cnn_cnn\n",
    "model_cnn.compile(optimizer=keras.optimizers.Adam(),\n",
    "              loss=\"categorical_crossentropy\",\n",
    "              metrics=[\"acc\"])\n",
    "\n",
    "# Train model\n",
    "history = model_cnn.fit(\n",
    "    trainset_augmented, validation_data=validset, epochs=120,\n",
    ")"
   ]
  },
  {
   "cell_type": "code",
   "execution_count": null,
   "metadata": {},
   "outputs": [],
   "source": [
    "fig, (ax1, ax2) = plt.subplots(nrows=1, ncols=2, figsize=(12, 4))\n",
    "\n",
    "# Plot loss values\n",
    "ax1.set_title(\"loss: {:.4f}\".format(history.history[\"val_loss\"][-1]))\n",
    "ax1.plot(history.history[\"val_loss\"], label=\"validation\")\n",
    "ax1.plot(history.history[\"loss\"], label=\"training\")\n",
    "ax1.legend()\n",
    "\n",
    "# plot accuracy values\n",
    "ax2.set_title(\"accuracy: {:.2f}%\".format(history.history[\"val_acc\"][-1] * 100))\n",
    "ax2.plot(history.history[\"val_acc\"], label=\"validation\")\n",
    "ax2.plot(history.history[\"acc\"], label=\"training\")\n",
    "ax2.legend()"
   ]
  },
  {
   "cell_type": "markdown",
   "metadata": {},
   "source": [
    "## Convolutional Neural Network model"
   ]
  },
  {
   "cell_type": "code",
   "execution_count": null,
   "metadata": {},
   "outputs": [],
   "source": [
    "import tensorflow.keras as keras\n",
    "\n",
    "# Convolutional Network\n",
    "model_cnn = keras.Sequential()\n",
    "model_cnn.add(keras.layers.Conv2D(filters=50, \n",
    "                              kernel_size=5, \n",
    "                              strides=2, \n",
    "                              activation=\"relu\",\n",
    "                              input_shape=(*image_size, 3),\n",
    "                              kernel_regularizer=keras.regularizers.l2(0.01)))\n",
    "#model_cnn.add(keras.layers.Dropout(0.2))\n",
    "model_cnn.add(keras.layers.MaxPool2D(pool_size=2))\n",
    "# model_cnn.add(keras.layers.Conv2D(filters=50, \n",
    "#                               kernel_size=3, \n",
    "#                               strides=1, \n",
    "#                               activation=\"relu\",\n",
    "#                               kernel_regularizer=keras.regularizers.l2(0.01)))\n",
    "# model_cnn.add(keras.layers.MaxPool2D(pool_size=2))\n",
    "model_cnn.add(keras.layers.Conv2D(filters=20, \n",
    "                              kernel_size=3, \n",
    "                              strides=1, \n",
    "                              activation=\"relu\",\n",
    "                              kernel_regularizer=keras.regularizers.l2(0.01)))\n",
    "#model_cnn.add(keras.layers.Dropout(0.2))\n",
    "model_cnn.add(keras.layers.MaxPool2D(pool_size=2))\n",
    "model_cnn.add(keras.layers.Flatten())\n",
    "#model_cnn.add(keras.layers.Dropout(0.2))\n",
    "model_cnn.add(keras.layers.Dense(units=trainset.num_classes, \n",
    "                                activation=\"softmax\",\n",
    "                                kernel_regularizer=keras.regularizers.l2(0.01)))\n",
    "model_cnn.summary()"
   ]
  },
  {
   "cell_type": "code",
   "execution_count": null,
   "metadata": {},
   "outputs": [],
   "source": [
    "# Compile the model_cnn_cnn\n",
    "model_cnn.compile(optimizer=keras.optimizers.Adam(),\n",
    "              loss=\"categorical_crossentropy\",\n",
    "              metrics=[\"acc\"])"
   ]
  },
  {
   "cell_type": "code",
   "execution_count": null,
   "metadata": {},
   "outputs": [],
   "source": [
    "# Train model\n",
    "history = model_cnn.fit(\n",
    "    trainset_augmented, validation_data=validset, epochs=100\n",
    ")"
   ]
  },
  {
   "cell_type": "code",
   "execution_count": null,
   "metadata": {},
   "outputs": [],
   "source": [
    "fig, (ax1, ax2) = plt.subplots(nrows=1, ncols=2, figsize=(12, 4))\n",
    "\n",
    "# Plot loss values\n",
    "ax1.set_title(\"loss: {:.4f}\".format(history.history[\"val_loss\"][-1]))\n",
    "ax1.plot(history.history[\"val_loss\"], label=\"validation\")\n",
    "ax1.plot(history.history[\"loss\"], label=\"training\")\n",
    "ax1.legend()\n",
    "\n",
    "# plot accuracy values\n",
    "ax2.set_title(\"accuracy: {:.2f}%\".format(history.history[\"val_acc\"][-1] * 100))\n",
    "ax2.plot(history.history[\"val_acc\"], label=\"validation\")\n",
    "ax2.plot(history.history[\"acc\"], label=\"training\")\n",
    "ax2.legend()"
   ]
  },
  {
   "cell_type": "markdown",
   "metadata": {},
   "source": []
  },
  {
   "cell_type": "code",
   "execution_count": null,
   "metadata": {},
   "outputs": [],
   "source": [
    "from sklearn.metrics import confusion_matrix\n",
    "import pandas as pd\n",
    "\n",
    "# Compute confusion matrix\n",
    "matrix = confusion_matrix(\n",
    "    y_true=testset.classes,            # array with true labels\n",
    "    y_pred=test_preds.argmax(axis=1),  # array with predicted labels\n",
    ")\n",
    "\n",
    "# Format as a DataFrame\n",
    "class_names = list(testset.class_indices.keys())\n",
    "matrix_df = pd.DataFrame(data=matrix, columns=class_names, index=class_names)\n",
    "matrix_df.columns.name = \"Predictions\"\n",
    "matrix_df.index.name = \"True class\"\n",
    "matrix_df"
   ]
  },
  {
   "cell_type": "code",
   "execution_count": null,
   "metadata": {},
   "outputs": [],
   "source": [
    "import pickle\n",
    "\n",
    "pickle.load()"
   ]
  },
  {
   "cell_type": "code",
   "execution_count": null,
   "metadata": {},
   "outputs": [],
   "source": [
    "with open('model_accuracy.pickle', 'wb') as f:\n",
    "    out = pickle.load(f)"
   ]
  },
  {
   "cell_type": "code",
   "execution_count": null,
   "metadata": {},
   "outputs": [],
   "source": []
  }
 ],
 "metadata": {
  "kernelspec": {
   "display_name": "adsml",
   "language": "python",
   "name": "python3"
  },
  "language_info": {
   "codemirror_mode": {
    "name": "ipython",
    "version": 3
   },
   "file_extension": ".py",
   "mimetype": "text/x-python",
   "name": "python",
   "nbconvert_exporter": "python",
   "pygments_lexer": "ipython3",
   "version": "3.9.18"
  }
 },
 "nbformat": 4,
 "nbformat_minor": 2
}
