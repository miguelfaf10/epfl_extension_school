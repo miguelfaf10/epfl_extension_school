{
 "cells": [
  {
   "cell_type": "markdown",
   "metadata": {},
   "source": [
    "Airline Passengers Data\n",
    "---\n",
    "\n",
    "In this exercise, you will use Airline Passengers dataset, which provides the monthly number of airline passengers from 1949 to 1960 for an airline company. \n",
    "\n",
    "1. Load the data from the file `c2_AirPassengers.csv` into a dataframe:\n",
    "- Use the Month column as the index when you load the data.\n",
    "- Check the shape of the data. \n",
    "- Are all years and months from 1949 to 1960 present in the data?"
   ]
  },
  {
   "cell_type": "code",
   "execution_count": null,
   "metadata": {},
   "outputs": [],
   "source": [
    "???"
   ]
  },
  {
   "cell_type": "markdown",
   "metadata": {},
   "source": [
    "__Answers__:\n",
    "- < enter here >"
   ]
  },
  {
   "cell_type": "markdown",
   "metadata": {},
   "source": [
    "2. Do the following steps:\n",
    "- Create new columns Month and Year using the index of the dataframe.\n",
    "- Group the Passengers column by the Year and provide summary statistics of the number of passengers.\n",
    "- Discuss the patterns."
   ]
  },
  {
   "cell_type": "code",
   "execution_count": null,
   "metadata": {},
   "outputs": [],
   "source": [
    "???"
   ]
  },
  {
   "cell_type": "markdown",
   "metadata": {},
   "source": [
    "__Answers__:\n",
    "- < enter here >"
   ]
  },
  {
   "cell_type": "markdown",
   "metadata": {},
   "source": [
    "3. Finding trends and cycles in the data using visualisations:\n",
    "\n",
    "- Do you observe a trend in the data over time?\n",
    "- Is there a seasonal component present in the data? if yes, describe it and explain if it has changed over time."
   ]
  },
  {
   "cell_type": "code",
   "execution_count": null,
   "metadata": {},
   "outputs": [],
   "source": [
    "???"
   ]
  },
  {
   "cell_type": "markdown",
   "metadata": {},
   "source": [
    "__Answers__:\n",
    "- < enter here >\n"
   ]
  },
  {
   "cell_type": "markdown",
   "metadata": {},
   "source": [
    "4. Find out autocorrelations in the data. "
   ]
  },
  {
   "cell_type": "code",
   "execution_count": null,
   "metadata": {},
   "outputs": [],
   "source": [
    "???"
   ]
  },
  {
   "cell_type": "markdown",
   "metadata": {},
   "source": [
    "__Answers__:\n",
    "- < enter here >"
   ]
  },
  {
   "cell_type": "markdown",
   "metadata": {},
   "source": [
    "5. Find out if data are stationary and try to remove non-stationarity if there is evidence supporting its presence."
   ]
  },
  {
   "cell_type": "code",
   "execution_count": null,
   "metadata": {},
   "outputs": [],
   "source": [
    "???"
   ]
  },
  {
   "cell_type": "markdown",
   "metadata": {},
   "source": [
    "__Answers__:\n",
    "- < enter here >"
   ]
  }
 ],
 "metadata": {
  "kernelspec": {
   "display_name": "Python 3 (ipykernel)",
   "language": "python",
   "name": "python3"
  },
  "language_info": {
   "codemirror_mode": {
    "name": "ipython",
    "version": 3
   },
   "file_extension": ".py",
   "mimetype": "text/x-python",
   "name": "python",
   "nbconvert_exporter": "python",
   "pygments_lexer": "ipython3",
   "version": "3.9.7"
  },
  "toc-autonumbering": false,
  "toc-showcode": false,
  "toc-showmarkdowntxt": false,
  "toc-showtags": false
 },
 "nbformat": 4,
 "nbformat_minor": 4
}
