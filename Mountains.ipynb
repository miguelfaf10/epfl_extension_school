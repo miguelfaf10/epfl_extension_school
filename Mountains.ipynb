{
 "cells": [
  {
   "cell_type": "code",
   "execution_count": 6,
   "id": "a8a3f871-5e6d-4a48-92fa-3fe467755bf6",
   "metadata": {},
   "outputs": [],
   "source": [
    "import pandas as pd"
   ]
  },
  {
   "cell_type": "markdown",
   "id": "37133f51-12dd-4fb0-b30d-8c62173e4adb",
   "metadata": {},
   "source": [
    "## Reading input datafile"
   ]
  },
  {
   "cell_type": "code",
   "execution_count": 44,
   "id": "7c550f99-9200-4cf4-a232-afd88c7e93d7",
   "metadata": {},
   "outputs": [
    {
     "data": {
      "text/html": [
       "<div>\n",
       "<style scoped>\n",
       "    .dataframe tbody tr th:only-of-type {\n",
       "        vertical-align: middle;\n",
       "    }\n",
       "\n",
       "    .dataframe tbody tr th {\n",
       "        vertical-align: top;\n",
       "    }\n",
       "\n",
       "    .dataframe thead th {\n",
       "        text-align: right;\n",
       "    }\n",
       "</style>\n",
       "<table border=\"1\" class=\"dataframe\">\n",
       "  <thead>\n",
       "    <tr style=\"text-align: right;\">\n",
       "      <th></th>\n",
       "      <th>Rank</th>\n",
       "      <th>Height (m)</th>\n",
       "      <th>Height (ft)</th>\n",
       "      <th>Prominence (m)</th>\n",
       "      <th>Range</th>\n",
       "      <th>Coordinates</th>\n",
       "      <th>Parent mountain</th>\n",
       "      <th>First ascent</th>\n",
       "      <th>Ascents bef. 2004</th>\n",
       "      <th>Failed attempts bef. 2004</th>\n",
       "    </tr>\n",
       "    <tr>\n",
       "      <th>Mountain</th>\n",
       "      <th></th>\n",
       "      <th></th>\n",
       "      <th></th>\n",
       "      <th></th>\n",
       "      <th></th>\n",
       "      <th></th>\n",
       "      <th></th>\n",
       "      <th></th>\n",
       "      <th></th>\n",
       "      <th></th>\n",
       "    </tr>\n",
       "  </thead>\n",
       "  <tbody>\n",
       "    <tr>\n",
       "      <th>Mount Everest / Sagarmatha / Chomolungma</th>\n",
       "      <td>1</td>\n",
       "      <td>8848</td>\n",
       "      <td>29029</td>\n",
       "      <td>8848</td>\n",
       "      <td>Mahalangur Himalaya</td>\n",
       "      <td>27°59′17″N 86°55′31″E﻿</td>\n",
       "      <td>NaN</td>\n",
       "      <td>1953</td>\n",
       "      <td>&gt;&gt;145</td>\n",
       "      <td>121.0</td>\n",
       "    </tr>\n",
       "    <tr>\n",
       "      <th>K2 / Qogir / Godwin Austen</th>\n",
       "      <td>2</td>\n",
       "      <td>8611</td>\n",
       "      <td>28251</td>\n",
       "      <td>4017</td>\n",
       "      <td>Baltoro Karakoram</td>\n",
       "      <td>35°52′53″N 76°30′48″E﻿</td>\n",
       "      <td>Mount Everest</td>\n",
       "      <td>1954</td>\n",
       "      <td>45</td>\n",
       "      <td>44.0</td>\n",
       "    </tr>\n",
       "    <tr>\n",
       "      <th>Kangchenjunga</th>\n",
       "      <td>3</td>\n",
       "      <td>8586</td>\n",
       "      <td>28169</td>\n",
       "      <td>3922</td>\n",
       "      <td>Kangchenjunga Himalaya</td>\n",
       "      <td>27°42′12″N 88°08′51″E﻿</td>\n",
       "      <td>Mount Everest</td>\n",
       "      <td>1955</td>\n",
       "      <td>38</td>\n",
       "      <td>24.0</td>\n",
       "    </tr>\n",
       "    <tr>\n",
       "      <th>Lhotse</th>\n",
       "      <td>4</td>\n",
       "      <td>8516</td>\n",
       "      <td>27940</td>\n",
       "      <td>610</td>\n",
       "      <td>Mahalangur Himalaya</td>\n",
       "      <td>27°57′42″N 86°55′59″E﻿</td>\n",
       "      <td>Mount Everest</td>\n",
       "      <td>1956</td>\n",
       "      <td>26</td>\n",
       "      <td>26.0</td>\n",
       "    </tr>\n",
       "    <tr>\n",
       "      <th>Makalu</th>\n",
       "      <td>5</td>\n",
       "      <td>8485</td>\n",
       "      <td>27838</td>\n",
       "      <td>2386</td>\n",
       "      <td>Mahalangur Himalaya</td>\n",
       "      <td>27°53′23″N 87°05′20″E﻿</td>\n",
       "      <td>Mount Everest</td>\n",
       "      <td>1955</td>\n",
       "      <td>45</td>\n",
       "      <td>52.0</td>\n",
       "    </tr>\n",
       "  </tbody>\n",
       "</table>\n",
       "</div>"
      ],
      "text/plain": [
       "                                          Rank  Height (m)  Height (ft)  \\\n",
       "Mountain                                                                  \n",
       "Mount Everest / Sagarmatha / Chomolungma     1        8848        29029   \n",
       "K2 / Qogir / Godwin Austen                   2        8611        28251   \n",
       "Kangchenjunga                                3        8586        28169   \n",
       "Lhotse                                       4        8516        27940   \n",
       "Makalu                                       5        8485        27838   \n",
       "\n",
       "                                          Prominence (m)  \\\n",
       "Mountain                                                   \n",
       "Mount Everest / Sagarmatha / Chomolungma            8848   \n",
       "K2 / Qogir / Godwin Austen                          4017   \n",
       "Kangchenjunga                                       3922   \n",
       "Lhotse                                               610   \n",
       "Makalu                                              2386   \n",
       "\n",
       "                                                           Range  \\\n",
       "Mountain                                                           \n",
       "Mount Everest / Sagarmatha / Chomolungma     Mahalangur Himalaya   \n",
       "K2 / Qogir / Godwin Austen                     Baltoro Karakoram   \n",
       "Kangchenjunga                             Kangchenjunga Himalaya   \n",
       "Lhotse                                       Mahalangur Himalaya   \n",
       "Makalu                                       Mahalangur Himalaya   \n",
       "\n",
       "                                                      Coordinates  \\\n",
       "Mountain                                                            \n",
       "Mount Everest / Sagarmatha / Chomolungma  27°59′17″N 86°55′31″E﻿    \n",
       "K2 / Qogir / Godwin Austen                35°52′53″N 76°30′48″E﻿    \n",
       "Kangchenjunga                             27°42′12″N 88°08′51″E﻿    \n",
       "Lhotse                                    27°57′42″N 86°55′59″E﻿    \n",
       "Makalu                                    27°53′23″N 87°05′20″E﻿    \n",
       "\n",
       "                                         Parent mountain First ascent  \\\n",
       "Mountain                                                                \n",
       "Mount Everest / Sagarmatha / Chomolungma             NaN         1953   \n",
       "K2 / Qogir / Godwin Austen                 Mount Everest         1954   \n",
       "Kangchenjunga                              Mount Everest         1955   \n",
       "Lhotse                                     Mount Everest         1956   \n",
       "Makalu                                     Mount Everest         1955   \n",
       "\n",
       "                                         Ascents bef. 2004  \\\n",
       "Mountain                                                     \n",
       "Mount Everest / Sagarmatha / Chomolungma            >>145    \n",
       "K2 / Qogir / Godwin Austen                              45   \n",
       "Kangchenjunga                                           38   \n",
       "Lhotse                                                  26   \n",
       "Makalu                                                  45   \n",
       "\n",
       "                                          Failed attempts bef. 2004  \n",
       "Mountain                                                             \n",
       "Mount Everest / Sagarmatha / Chomolungma                      121.0  \n",
       "K2 / Qogir / Godwin Austen                                     44.0  \n",
       "Kangchenjunga                                                  24.0  \n",
       "Lhotse                                                         26.0  \n",
       "Makalu                                                         52.0  "
      ]
     },
     "execution_count": 44,
     "metadata": {},
     "output_type": "execute_result"
    }
   ],
   "source": [
    "df = pd.read_csv(\"c1_mountains.csv\")\n",
    "df.set_index(\"Mountain\", inplace=True)\n",
    "df.head()"
   ]
  },
  {
   "cell_type": "markdown",
   "id": "b2506610-4fb6-4980-ac93-4cd9fd44845c",
   "metadata": {},
   "source": [
    "## Dropping columns and rows"
   ]
  },
  {
   "cell_type": "code",
   "execution_count": 40,
   "id": "b11224c6-0983-4208-b5ba-e008af085828",
   "metadata": {},
   "outputs": [],
   "source": [
    "df.drop([\"Rank\", \"Height (ft)\", \"Coordinates\", \"Parent mountain\"], axis=1, inplace=True)\n",
    "df.drop(\n",
    "    [\"Mount Everest / Sagarmatha / Chomolungma\", \"Muztagh Ata\"], axis=0, inplace=True\n",
    ")"
   ]
  },
  {
   "cell_type": "markdown",
   "id": "f50ec009-2335-466a-8efb-24769c5c9802",
   "metadata": {},
   "source": [
    "## Cleaning data"
   ]
  },
  {
   "cell_type": "code",
   "execution_count": 45,
   "id": "a1b01951-20f8-40f4-a7fe-ed1158da86c9",
   "metadata": {},
   "outputs": [
    {
     "name": "stdout",
     "output_type": "stream",
     "text": [
      "<class 'pandas.core.frame.DataFrame'>\n",
      "Index: 110 entries, K2 / Qogir / Godwin Austen to Lupghar Sar\n",
      "Data columns (total 10 columns):\n",
      " #   Column                     Non-Null Count  Dtype  \n",
      "---  ------                     --------------  -----  \n",
      " 0   Rank                       110 non-null    int64  \n",
      " 1   Height (m)                 110 non-null    int64  \n",
      " 2   Height (ft)                110 non-null    int64  \n",
      " 3   Prominence (m)             110 non-null    int64  \n",
      " 4   Range                      110 non-null    object \n",
      " 5   Coordinates                110 non-null    object \n",
      " 6   Parent mountain            110 non-null    object \n",
      " 7   First ascent               110 non-null    object \n",
      " 8   Ascents bef. 2004          110 non-null    object \n",
      " 9   Failed attempts bef. 2004  110 non-null    float64\n",
      "dtypes: float64(1), int64(4), object(5)\n",
      "memory usage: 9.5+ KB\n"
     ]
    }
   ],
   "source": [
    "df = df[df[\"First ascent\"] != \"unclimbed\"].copy()\n",
    "df.dropna(inplace=True)\n",
    "df.info()"
   ]
  },
  {
   "cell_type": "markdown",
   "id": "631562cb-6488-4a7a-a707-8438654b8bfc",
   "metadata": {},
   "source": [
    "## Fixing datatypes"
   ]
  },
  {
   "cell_type": "code",
   "execution_count": 46,
   "id": "160c42f2-82fe-4d01-ac92-4e8b2b422215",
   "metadata": {},
   "outputs": [
    {
     "name": "stdout",
     "output_type": "stream",
     "text": [
      "<class 'pandas.core.frame.DataFrame'>\n",
      "Index: 110 entries, K2 / Qogir / Godwin Austen to Lupghar Sar\n",
      "Data columns (total 10 columns):\n",
      " #   Column                     Non-Null Count  Dtype \n",
      "---  ------                     --------------  ----- \n",
      " 0   Rank                       110 non-null    int64 \n",
      " 1   Height (m)                 110 non-null    int64 \n",
      " 2   Height (ft)                110 non-null    int64 \n",
      " 3   Prominence (m)             110 non-null    int64 \n",
      " 4   Range                      110 non-null    object\n",
      " 5   Coordinates                110 non-null    object\n",
      " 6   Parent mountain            110 non-null    object\n",
      " 7   First ascent               110 non-null    int32 \n",
      " 8   Ascents bef. 2004          110 non-null    int32 \n",
      " 9   Failed attempts bef. 2004  110 non-null    int32 \n",
      "dtypes: int32(3), int64(4), object(3)\n",
      "memory usage: 8.2+ KB\n"
     ]
    }
   ],
   "source": [
    "df[\"First ascent\"] = df[\"First ascent\"].astype('int32')\n",
    "df[\"Ascents bef. 2004\"] = df[\"Ascents bef. 2004\"].astype('int32')\n",
    "df[\"Failed attempts bef. 2004\"] = df[\"Failed attempts bef. 2004\"].astype('int32')\n",
    "df.info()"
   ]
  },
  {
   "cell_type": "markdown",
   "id": "62893c4b-9db4-40a4-a1c6-5ad5cdd26dd2",
   "metadata": {},
   "source": [
    "## Saving new datafile"
   ]
  },
  {
   "cell_type": "code",
   "execution_count": 43,
   "id": "ce0a6cca-bd89-4dd4-87b2-0d9ec0bb8650",
   "metadata": {},
   "outputs": [],
   "source": [
    "new_filename = \"Mountains_Cleaned.csv\"\n",
    "df.to_csv(new_filename, encoding=\"utf-8\")"
   ]
  }
 ],
 "metadata": {
  "kernelspec": {
   "display_name": "Python 3 (ipykernel)",
   "language": "python",
   "name": "python3"
  },
  "language_info": {
   "codemirror_mode": {
    "name": "ipython",
    "version": 3
   },
   "file_extension": ".py",
   "mimetype": "text/x-python",
   "name": "python",
   "nbconvert_exporter": "python",
   "pygments_lexer": "ipython3",
   "version": "3.9.12"
  }
 },
 "nbformat": 4,
 "nbformat_minor": 5
}
