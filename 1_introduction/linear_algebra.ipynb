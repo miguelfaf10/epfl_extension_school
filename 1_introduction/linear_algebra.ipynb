{
 "cells": [
  {
   "cell_type": "code",
   "execution_count": 11,
   "id": "cd727fcb-1fc1-4e19-ad86-44c4c8777eda",
   "metadata": {},
   "outputs": [],
   "source": [
    "import numpy as np"
   ]
  },
  {
   "cell_type": "markdown",
   "id": "cfc2407d-5405-4eb8-840a-1168569cf483",
   "metadata": {},
   "source": [
    "NumPy linalg\n",
    "============"
   ]
  },
  {
   "cell_type": "code",
   "execution_count": 12,
   "id": "28cbca0a-c924-4349-ac8e-8a54c9b08807",
   "metadata": {},
   "outputs": [],
   "source": [
    "A = np.array([[3, 4], [2, 3]])"
   ]
  },
  {
   "cell_type": "code",
   "execution_count": 13,
   "id": "4bc03200-4d7e-4e9f-8c87-8b0ec8bae2cd",
   "metadata": {},
   "outputs": [
    {
     "data": {
      "text/plain": [
       "array([[3, 2],\n",
       "       [4, 3]])"
      ]
     },
     "execution_count": 13,
     "metadata": {},
     "output_type": "execute_result"
    }
   ],
   "source": [
    "A.T"
   ]
  },
  {
   "cell_type": "code",
   "execution_count": 14,
   "id": "e9501092-2176-4601-8b5c-f6feafd3b436",
   "metadata": {},
   "outputs": [
    {
     "data": {
      "text/plain": [
       "array([[ 3., -4.],\n",
       "       [-2.,  3.]])"
      ]
     },
     "execution_count": 14,
     "metadata": {},
     "output_type": "execute_result"
    }
   ],
   "source": [
    "np.linalg.inv(A)"
   ]
  },
  {
   "cell_type": "code",
   "execution_count": 15,
   "id": "1218836a-9f4e-419a-80d5-fd71f797f4dd",
   "metadata": {},
   "outputs": [
    {
     "data": {
      "text/plain": [
       "2"
      ]
     },
     "execution_count": 15,
     "metadata": {},
     "output_type": "execute_result"
    }
   ],
   "source": [
    "np.linalg.matrix_rank(A)"
   ]
  },
  {
   "cell_type": "code",
   "execution_count": 16,
   "id": "a99030ec-a04b-4400-befe-98a05295f1e1",
   "metadata": {},
   "outputs": [],
   "source": [
    "B = np.array([[1, 0], [0, 0]])"
   ]
  },
  {
   "cell_type": "code",
   "execution_count": 17,
   "id": "da6cac33-178c-49f6-a463-3872b0392767",
   "metadata": {},
   "outputs": [
    {
     "data": {
      "text/plain": [
       "1"
      ]
     },
     "execution_count": 17,
     "metadata": {},
     "output_type": "execute_result"
    }
   ],
   "source": [
    "np.linalg.matrix_rank(B)"
   ]
  },
  {
   "cell_type": "code",
   "execution_count": 18,
   "id": "fb2ce525-f463-4233-8034-74467644ba29",
   "metadata": {},
   "outputs": [],
   "source": [
    "b = np.array([[1], [2]])"
   ]
  },
  {
   "cell_type": "code",
   "execution_count": 19,
   "id": "f832a041-929b-47ab-a6ca-03426a6c28cc",
   "metadata": {},
   "outputs": [
    {
     "data": {
      "text/plain": [
       "array([[-5.],\n",
       "       [ 4.]])"
      ]
     },
     "execution_count": 19,
     "metadata": {},
     "output_type": "execute_result"
    }
   ],
   "source": [
    "x = np.linalg.solve(A, b)\n",
    "x"
   ]
  },
  {
   "cell_type": "code",
   "execution_count": 20,
   "id": "d8a6cd34-021b-45b4-88bf-be69c316dcbd",
   "metadata": {},
   "outputs": [
    {
     "data": {
      "text/plain": [
       "array([[1.],\n",
       "       [2.]])"
      ]
     },
     "execution_count": 20,
     "metadata": {},
     "output_type": "execute_result"
    }
   ],
   "source": [
    "np.dot(A, x)"
   ]
  },
  {
   "cell_type": "markdown",
   "id": "9ec205df-d02a-498c-848a-94c5d50526aa",
   "metadata": {},
   "source": [
    "## Exercise - solving a system of linear equations"
   ]
  },
  {
   "cell_type": "code",
   "execution_count": 40,
   "id": "836fa789-4b73-4efe-94aa-57a39d30d723",
   "metadata": {},
   "outputs": [],
   "source": [
    "A = np.array([[2,1,1],[-5,-3,0],[1,1,-1]])\n",
    "# with additional row\n",
    "# A = np.array([[2,1,1],[-5,-3,0],[1,1,-1],[0,5,-1]])"
   ]
  },
  {
   "cell_type": "code",
   "execution_count": 41,
   "id": "b12d4b53-afcf-4ded-81bb-fa641c5dbe9c",
   "metadata": {},
   "outputs": [],
   "source": [
    "b = np.array([-1,1,-2])"
   ]
  },
  {
   "cell_type": "code",
   "execution_count": 42,
   "id": "7888799b-42d2-4ced-bc10-0f1a18cc2289",
   "metadata": {},
   "outputs": [
    {
     "data": {
      "text/plain": [
       "3"
      ]
     },
     "execution_count": 42,
     "metadata": {},
     "output_type": "execute_result"
    }
   ],
   "source": [
    "np.linalg.matrix_rank(A)"
   ]
  },
  {
   "cell_type": "code",
   "execution_count": 43,
   "id": "8f700cdd-aff0-4995-893a-157903041878",
   "metadata": {},
   "outputs": [],
   "source": [
    "A_inv = np.linalg.inv(A)"
   ]
  },
  {
   "cell_type": "code",
   "execution_count": 44,
   "id": "d92ad149-5014-458b-be47-3735e0b0c6f5",
   "metadata": {},
   "outputs": [
    {
     "data": {
      "text/plain": [
       "array([  7., -12.,  -3.])"
      ]
     },
     "execution_count": 44,
     "metadata": {},
     "output_type": "execute_result"
    }
   ],
   "source": [
    "x = np.dot(A_inv,b)\n",
    "x"
   ]
  },
  {
   "cell_type": "code",
   "execution_count": 45,
   "id": "6ac1d53e-865a-4923-ae23-af171e0b8ce8",
   "metadata": {},
   "outputs": [
    {
     "data": {
      "text/plain": [
       "array([-1.,  1., -2.])"
      ]
     },
     "execution_count": 45,
     "metadata": {},
     "output_type": "execute_result"
    }
   ],
   "source": [
    "np.dot(A,x)"
   ]
  },
  {
   "cell_type": "code",
   "execution_count": 46,
   "id": "4b8d110d-3d47-4ef2-ae67-62ee401347c3",
   "metadata": {},
   "outputs": [
    {
     "data": {
      "text/plain": [
       "array([  7., -12.,  -3.])"
      ]
     },
     "execution_count": 46,
     "metadata": {},
     "output_type": "execute_result"
    }
   ],
   "source": [
    "# alternative\n",
    "np.linalg.solve(A,b)"
   ]
  }
 ],
 "metadata": {
  "kernelspec": {
   "display_name": "Python 3 (ipykernel)",
   "language": "python",
   "name": "python3"
  },
  "language_info": {
   "codemirror_mode": {
    "name": "ipython",
    "version": 3
   },
   "file_extension": ".py",
   "mimetype": "text/x-python",
   "name": "python",
   "nbconvert_exporter": "python",
   "pygments_lexer": "ipython3",
   "version": "3.9.12"
  }
 },
 "nbformat": 4,
 "nbformat_minor": 5
}
