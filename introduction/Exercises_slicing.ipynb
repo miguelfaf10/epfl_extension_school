{
 "cells": [
  {
   "cell_type": "code",
   "execution_count": 1,
   "id": "20af0d60-665c-4b36-af35-433d55a2deb5",
   "metadata": {},
   "outputs": [],
   "source": [
    "import numpy as np"
   ]
  },
  {
   "cell_type": "markdown",
   "id": "52309dcb-cd72-425d-9f6a-0fb6264c97f5",
   "metadata": {},
   "source": [
    "## Step 1"
   ]
  },
  {
   "cell_type": "code",
   "execution_count": 31,
   "id": "95608501-cf0b-49b9-8dd6-8996c77ef1c4",
   "metadata": {},
   "outputs": [
    {
     "data": {
      "text/plain": [
       "array([ 1,  2,  3,  4,  5,  6,  7,  8,  9, 10, 11, 12, 13, 14, 15, 16, 17,\n",
       "       18, 19, 20, 21, 22, 23, 24, 25, 26, 27, 28, 29, 30, 31, 32, 33, 34,\n",
       "       35, 36])"
      ]
     },
     "execution_count": 31,
     "metadata": {},
     "output_type": "execute_result"
    }
   ],
   "source": [
    "a = np.arange(1,37)\n",
    "a"
   ]
  },
  {
   "cell_type": "markdown",
   "id": "6ab91c3c-b934-4387-8ed3-0229cedd5b34",
   "metadata": {},
   "source": [
    "## Step 2"
   ]
  },
  {
   "cell_type": "code",
   "execution_count": 33,
   "id": "47dfcc44-7b06-4cd5-88c8-1bddd00ae82f",
   "metadata": {},
   "outputs": [
    {
     "data": {
      "text/plain": [
       "array([[ 1,  2,  3,  4,  5,  6],\n",
       "       [ 7,  8,  9, 10, 11, 12],\n",
       "       [13, 14, 15, 16, 17, 18],\n",
       "       [19, 20, 21, 22, 23, 24],\n",
       "       [25, 26, 27, 28, 29, 30],\n",
       "       [31, 32, 33, 34, 35, 36]])"
      ]
     },
     "execution_count": 33,
     "metadata": {},
     "output_type": "execute_result"
    }
   ],
   "source": [
    "b = a.reshape(6,6)\n",
    "b"
   ]
  },
  {
   "cell_type": "markdown",
   "id": "26a49452-2110-4529-99ac-24a767e14c60",
   "metadata": {},
   "source": [
    "## Step 3"
   ]
  },
  {
   "cell_type": "code",
   "execution_count": 34,
   "id": "168ce480-3ce9-4364-87b7-9ffd873d1a58",
   "metadata": {},
   "outputs": [
    {
     "data": {
      "text/plain": [
       "array([ 2,  8, 14, 20, 26, 32])"
      ]
     },
     "execution_count": 34,
     "metadata": {},
     "output_type": "execute_result"
    }
   ],
   "source": [
    "c = b[:,1]\n",
    "c"
   ]
  },
  {
   "cell_type": "markdown",
   "id": "0f7a7988-19dd-46f5-9d8d-d0e2ab4e9195",
   "metadata": {},
   "source": [
    "## Step 4"
   ]
  },
  {
   "cell_type": "code",
   "execution_count": 39,
   "id": "32e1967f-5853-41f3-8942-9b164a2aa62c",
   "metadata": {},
   "outputs": [
    {
     "data": {
      "text/plain": [
       "array([[ 5,  6],\n",
       "       [11, 12]])"
      ]
     },
     "execution_count": 39,
     "metadata": {},
     "output_type": "execute_result"
    }
   ],
   "source": [
    "d = b[:2,4:]\n",
    "d"
   ]
  },
  {
   "cell_type": "markdown",
   "id": "e72b8bc1-bc73-4fe8-9846-cf4221e91646",
   "metadata": {},
   "source": [
    "## Step 5"
   ]
  },
  {
   "cell_type": "code",
   "execution_count": 43,
   "id": "58d9676d-94e9-4fb2-a4d8-f8e4bb547ede",
   "metadata": {},
   "outputs": [
    {
     "data": {
      "text/plain": [
       "array([35, 36])"
      ]
     },
     "execution_count": 43,
     "metadata": {},
     "output_type": "execute_result"
    }
   ],
   "source": [
    "e = b[5,4:]\n",
    "e"
   ]
  },
  {
   "cell_type": "markdown",
   "id": "caf91f7c-c723-4ca2-b981-a5a56b9fae35",
   "metadata": {},
   "source": [
    "## Step 6"
   ]
  },
  {
   "cell_type": "code",
   "execution_count": 44,
   "id": "a753e7a9-0028-415d-8ddb-f683ce276a42",
   "metadata": {},
   "outputs": [
    {
     "data": {
      "text/plain": [
       "array([[13, 15, 17],\n",
       "       [25, 27, 29]])"
      ]
     },
     "execution_count": 44,
     "metadata": {},
     "output_type": "execute_result"
    }
   ],
   "source": [
    "f = b[2::2,::2]\n",
    "f"
   ]
  }
 ],
 "metadata": {
  "kernelspec": {
   "display_name": "Python 3 (ipykernel)",
   "language": "python",
   "name": "python3"
  },
  "language_info": {
   "codemirror_mode": {
    "name": "ipython",
    "version": 3
   },
   "file_extension": ".py",
   "mimetype": "text/x-python",
   "name": "python",
   "nbconvert_exporter": "python",
   "pygments_lexer": "ipython3",
   "version": "3.9.12"
  }
 },
 "nbformat": 4,
 "nbformat_minor": 5
}
