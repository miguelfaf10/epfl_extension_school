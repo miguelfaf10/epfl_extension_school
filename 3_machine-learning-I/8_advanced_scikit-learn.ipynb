{
 "cells": [
  {
   "cell_type": "markdown",
   "metadata": {},
   "source": [
    "# 2. Pipelines"
   ]
  },
  {
   "cell_type": "markdown",
   "metadata": {},
   "source": [
    "So far, we used Scikit-learn for its ML estimators like the LinearRegression or Ridge ones and saw a few examples of transformers with the StandardScaler and PolynomialFeatures objects. In this unit and the next ones, we will see how to assemble Scikit-learn estimators and transformers into a full ML pipeline.\n",
    "\n",
    "In this unit, we will see how to use the Pipeline object from Scikit-learn using the bike sharing data."
   ]
  },
  {
   "cell_type": "markdown",
   "metadata": {},
   "source": [
    "__Encapsulating preprocessing steps__"
   ]
  },
  {
   "cell_type": "code",
   "execution_count": 1,
   "metadata": {},
   "outputs": [
    {
     "data": {
      "text/html": [
       "<div>\n",
       "<style scoped>\n",
       "    .dataframe tbody tr th:only-of-type {\n",
       "        vertical-align: middle;\n",
       "    }\n",
       "\n",
       "    .dataframe tbody tr th {\n",
       "        vertical-align: top;\n",
       "    }\n",
       "\n",
       "    .dataframe thead th {\n",
       "        text-align: right;\n",
       "    }\n",
       "</style>\n",
       "<table border=\"1\" class=\"dataframe\">\n",
       "  <thead>\n",
       "    <tr style=\"text-align: right;\">\n",
       "      <th></th>\n",
       "      <th>temp</th>\n",
       "      <th>hum</th>\n",
       "      <th>windspeed</th>\n",
       "      <th>yr</th>\n",
       "      <th>workingday</th>\n",
       "      <th>holiday</th>\n",
       "      <th>weekday</th>\n",
       "      <th>season</th>\n",
       "      <th>weathersit</th>\n",
       "      <th>casual</th>\n",
       "    </tr>\n",
       "  </thead>\n",
       "  <tbody>\n",
       "    <tr>\n",
       "      <th>0</th>\n",
       "      <td>0.344</td>\n",
       "      <td>0.806</td>\n",
       "      <td>0.160</td>\n",
       "      <td>2011</td>\n",
       "      <td>no</td>\n",
       "      <td>no</td>\n",
       "      <td>6</td>\n",
       "      <td>spring</td>\n",
       "      <td>cloudy</td>\n",
       "      <td>331</td>\n",
       "    </tr>\n",
       "    <tr>\n",
       "      <th>1</th>\n",
       "      <td>0.363</td>\n",
       "      <td>0.696</td>\n",
       "      <td>0.249</td>\n",
       "      <td>2011</td>\n",
       "      <td>no</td>\n",
       "      <td>no</td>\n",
       "      <td>0</td>\n",
       "      <td>spring</td>\n",
       "      <td>cloudy</td>\n",
       "      <td>131</td>\n",
       "    </tr>\n",
       "    <tr>\n",
       "      <th>2</th>\n",
       "      <td>0.196</td>\n",
       "      <td>0.437</td>\n",
       "      <td>0.248</td>\n",
       "      <td>2011</td>\n",
       "      <td>yes</td>\n",
       "      <td>no</td>\n",
       "      <td>1</td>\n",
       "      <td>spring</td>\n",
       "      <td>clear</td>\n",
       "      <td>120</td>\n",
       "    </tr>\n",
       "    <tr>\n",
       "      <th>3</th>\n",
       "      <td>0.200</td>\n",
       "      <td>0.590</td>\n",
       "      <td>0.160</td>\n",
       "      <td>2011</td>\n",
       "      <td>yes</td>\n",
       "      <td>no</td>\n",
       "      <td>2</td>\n",
       "      <td>spring</td>\n",
       "      <td>clear</td>\n",
       "      <td>108</td>\n",
       "    </tr>\n",
       "    <tr>\n",
       "      <th>4</th>\n",
       "      <td>0.227</td>\n",
       "      <td>0.437</td>\n",
       "      <td>0.187</td>\n",
       "      <td>2011</td>\n",
       "      <td>yes</td>\n",
       "      <td>no</td>\n",
       "      <td>3</td>\n",
       "      <td>spring</td>\n",
       "      <td>clear</td>\n",
       "      <td>82</td>\n",
       "    </tr>\n",
       "  </tbody>\n",
       "</table>\n",
       "</div>"
      ],
      "text/plain": [
       "    temp    hum  windspeed    yr workingday holiday  weekday  season  \\\n",
       "0  0.344  0.806      0.160  2011         no      no        6  spring   \n",
       "1  0.363  0.696      0.249  2011         no      no        0  spring   \n",
       "2  0.196  0.437      0.248  2011        yes      no        1  spring   \n",
       "3  0.200  0.590      0.160  2011        yes      no        2  spring   \n",
       "4  0.227  0.437      0.187  2011        yes      no        3  spring   \n",
       "\n",
       "  weathersit  casual  \n",
       "0     cloudy     331  \n",
       "1     cloudy     131  \n",
       "2      clear     120  \n",
       "3      clear     108  \n",
       "4      clear      82  "
      ]
     },
     "execution_count": 1,
     "metadata": {},
     "output_type": "execute_result"
    }
   ],
   "source": [
    "import pandas as pd\n",
    "\n",
    "data_df = pd.read_csv(\"c3_bike-sharing-data.csv\")\n",
    "data_df.head()"
   ]
  },
  {
   "cell_type": "code",
   "execution_count": 2,
   "metadata": {},
   "outputs": [],
   "source": [
    "from sklearn.model_selection import train_test_split\n",
    "\n",
    "# One-hot encoding\n",
    "encoded_df = pd.get_dummies(data_df)\n",
    "\n",
    "# Split into train/test sets\n",
    "X = encoded_df.drop(\"casual\", axis=1).values\n",
    "y = data_df.casual.values\n",
    "X_tr, X_te, y_tr, y_te = train_test_split(X, y, test_size=0.3, random_state=0)"
   ]
  },
  {
   "cell_type": "code",
   "execution_count": 3,
   "metadata": {},
   "outputs": [],
   "source": [
    "from sklearn.preprocessing import StandardScaler\n",
    "\n",
    "# Standardize data\n",
    "scaler = StandardScaler()\n",
    "X_tr_rescaled = scaler.fit_transform(X_tr)\n",
    "X_te_rescaled = scaler.transform(X_te)"
   ]
  },
  {
   "cell_type": "code",
   "execution_count": 4,
   "metadata": {},
   "outputs": [
    {
     "name": "stdout",
     "output_type": "stream",
     "text": [
      "MAE: 255890.12\n"
     ]
    }
   ],
   "source": [
    "from sklearn.metrics import mean_absolute_error as MAE\n",
    "from sklearn.linear_model import Ridge\n",
    "\n",
    "ridge = Ridge()\n",
    "ridge.fit(X_tr_rescaled, y_tr)\n",
    "print(\"MAE: {:.2f}\".format(MAE(y_te, ridge.predict(X_te))))"
   ]
  },
  {
   "cell_type": "markdown",
   "metadata": {},
   "source": [
    "The pipeline object can be used as a standard Scikit-learn estimator i.e. it implements the usual fit(), predict() and score() functions from the estimator API."
   ]
  },
  {
   "cell_type": "code",
   "execution_count": 6,
   "metadata": {},
   "outputs": [
    {
     "name": "stdout",
     "output_type": "stream",
     "text": [
      "Median baseline: 523.47\n"
     ]
    }
   ],
   "source": [
    "import numpy as np\n",
    "\n",
    "median_predictions = np.full_like(y_te, np.median(y_tr))\n",
    "print(\"Median baseline: {:.2f}\".format(MAE(y_te, median_predictions)))"
   ]
  },
  {
   "cell_type": "code",
   "execution_count": 7,
   "metadata": {},
   "outputs": [
    {
     "name": "stdout",
     "output_type": "stream",
     "text": [
      "MAE: 279.80\n"
     ]
    }
   ],
   "source": [
    "print(\"MAE: {:.2f}\".format(MAE(y_te, ridge.predict(X_te_rescaled))))"
   ]
  },
  {
   "cell_type": "markdown",
   "metadata": {},
   "source": [
    "__Pipeline object__"
   ]
  },
  {
   "cell_type": "code",
   "execution_count": 11,
   "metadata": {},
   "outputs": [],
   "source": [
    "from sklearn.pipeline import Pipeline\n",
    "\n",
    "# Create pipeline\n",
    "pipe = Pipeline([(\"scaler\", StandardScaler()), (\"ridge\", Ridge())])"
   ]
  },
  {
   "cell_type": "code",
   "execution_count": 12,
   "metadata": {},
   "outputs": [
    {
     "data": {
      "text/plain": [
       "{'scaler': StandardScaler(), 'ridge': Ridge()}"
      ]
     },
     "execution_count": 12,
     "metadata": {},
     "output_type": "execute_result"
    }
   ],
   "source": [
    "# Get a dictionary with each step\n",
    "pipe.named_steps"
   ]
  },
  {
   "cell_type": "code",
   "execution_count": 13,
   "metadata": {},
   "outputs": [
    {
     "name": "stdout",
     "output_type": "stream",
     "text": [
      "MAE: 279.80\n"
     ]
    }
   ],
   "source": [
    "# Fit on the train set\n",
    "pipe.fit(X_tr, y_tr)\n",
    "\n",
    "# Evaluate on the test set\n",
    "print(\"MAE: {:.2f}\".format(MAE(y_te, pipe.predict(X_te))))"
   ]
  },
  {
   "cell_type": "markdown",
   "metadata": {},
   "source": [
    "__Multiple preprocessing steps__"
   ]
  },
  {
   "cell_type": "markdown",
   "metadata": {},
   "source": [
    "In the example above, we have a single preprocessing step. The pipe.fit() call is equivalent to applying the following handmade function:"
   ]
  },
  {
   "cell_type": "code",
   "execution_count": 8,
   "metadata": {},
   "outputs": [],
   "source": [
    "def pipe_fit(X, y):\n",
    "    # Fit and apply the transformation\n",
    "    X1 = scaler.fit_transform(X)\n",
    "\n",
    "    # Fit the estimator\n",
    "    ridge.fit(X1, y)\n",
    "\n",
    "\n",
    "# Fit to the train data\n",
    "pipe_fit(X_tr, y_tr)"
   ]
  },
  {
   "cell_type": "markdown",
   "metadata": {},
   "source": [
    "Similarly, the pipe.predict() call above is equivalent to:"
   ]
  },
  {
   "cell_type": "code",
   "execution_count": 9,
   "metadata": {},
   "outputs": [
    {
     "name": "stdout",
     "output_type": "stream",
     "text": [
      "MAE: 279.80\n"
     ]
    }
   ],
   "source": [
    "def pipe_predict(X):\n",
    "    # Apply the transformation\n",
    "    X1 = scaler.transform(X)\n",
    "\n",
    "    # Make predictions\n",
    "    return ridge.predict(X1)\n",
    "\n",
    "\n",
    "# Evaluate on the test set\n",
    "print(\"MAE: {:.2f}\".format(MAE(y_te, pipe_predict(X_te))))"
   ]
  },
  {
   "cell_type": "code",
   "execution_count": null,
   "metadata": {},
   "outputs": [],
   "source": [
    "# Pipeline with three transformations\n",
    "pipe = Pipeline([\n",
    "    ('transform1', ...),\n",
    "    ('transform2', ...),\n",
    "    ('transform3', ...),\n",
    "    ('estimator', ...)\n",
    "])"
   ]
  },
  {
   "cell_type": "markdown",
   "metadata": {},
   "source": [
    "__Grid search with pipelines__"
   ]
  },
  {
   "cell_type": "code",
   "execution_count": 14,
   "metadata": {},
   "outputs": [
    {
     "data": {
      "text/html": [
       "<div>\n",
       "<style scoped>\n",
       "    .dataframe tbody tr th:only-of-type {\n",
       "        vertical-align: middle;\n",
       "    }\n",
       "\n",
       "    .dataframe tbody tr th {\n",
       "        vertical-align: top;\n",
       "    }\n",
       "\n",
       "    .dataframe thead th {\n",
       "        text-align: right;\n",
       "    }\n",
       "</style>\n",
       "<table border=\"1\" class=\"dataframe\">\n",
       "  <thead>\n",
       "    <tr style=\"text-align: right;\">\n",
       "      <th></th>\n",
       "      <th>alpha</th>\n",
       "      <th>train_mae</th>\n",
       "      <th>test_mae</th>\n",
       "    </tr>\n",
       "  </thead>\n",
       "  <tbody>\n",
       "    <tr>\n",
       "      <th>0</th>\n",
       "      <td>0.000100</td>\n",
       "      <td>262.057394</td>\n",
       "      <td>279.754483</td>\n",
       "    </tr>\n",
       "    <tr>\n",
       "      <th>1</th>\n",
       "      <td>0.000120</td>\n",
       "      <td>262.057392</td>\n",
       "      <td>279.754483</td>\n",
       "    </tr>\n",
       "    <tr>\n",
       "      <th>2</th>\n",
       "      <td>0.000145</td>\n",
       "      <td>262.057391</td>\n",
       "      <td>279.754485</td>\n",
       "    </tr>\n",
       "    <tr>\n",
       "      <th>3</th>\n",
       "      <td>0.000175</td>\n",
       "      <td>262.057389</td>\n",
       "      <td>279.754486</td>\n",
       "    </tr>\n",
       "    <tr>\n",
       "      <th>4</th>\n",
       "      <td>0.000210</td>\n",
       "      <td>262.057386</td>\n",
       "      <td>279.754487</td>\n",
       "    </tr>\n",
       "  </tbody>\n",
       "</table>\n",
       "</div>"
      ],
      "text/plain": [
       "      alpha   train_mae    test_mae\n",
       "0  0.000100  262.057394  279.754483\n",
       "1  0.000120  262.057392  279.754483\n",
       "2  0.000145  262.057391  279.754485\n",
       "3  0.000175  262.057389  279.754486\n",
       "4  0.000210  262.057386  279.754487"
      ]
     },
     "execution_count": 14,
     "metadata": {},
     "output_type": "execute_result"
    }
   ],
   "source": [
    "import numpy as np\n",
    "\n",
    "# Variable to store the results\n",
    "gs_results = []\n",
    "\n",
    "# Grid search\n",
    "for alpha in np.logspace(-4, 4, num=100):\n",
    "    # Create/fit the pipeline\n",
    "    pipe = Pipeline([(\"scaler\", StandardScaler()), (\"ridge\", Ridge(alpha))])\n",
    "    pipe.fit(X_tr, y_tr)\n",
    "\n",
    "    # Save model and its performance on train/test sets\n",
    "    gs_results.append(\n",
    "        {\n",
    "            \"alpha\": alpha,\n",
    "            \"train_mae\": MAE(y_tr, pipe.predict(X_tr)),\n",
    "            \"test_mae\": MAE(y_te, pipe.predict(X_te)),\n",
    "        }\n",
    "    )\n",
    "\n",
    "# Convert results to DataFrame\n",
    "gs_results = pd.DataFrame(gs_results)\n",
    "gs_results.head()"
   ]
  },
  {
   "cell_type": "code",
   "execution_count": 15,
   "metadata": {},
   "outputs": [
    {
     "data": {
      "image/png": "[encoded data removed]",
      "text/plain": [
       "<Figure size 640x480 with 1 Axes>"
      ]
     },
     "metadata": {},
     "output_type": "display_data"
    }
   ],
   "source": [
    "%matplotlib inline\n",
    "import matplotlib.pyplot as plt\n",
    "\n",
    "# Plot the validation curves\n",
    "plt.semilogx(gs_results[\"alpha\"], gs_results[\"train_mae\"], label=\"train curve\")\n",
    "plt.semilogx(gs_results[\"alpha\"], gs_results[\"test_mae\"], label=\"test curve\")\n",
    "plt.xlabel(\"$alpha$\")\n",
    "plt.ylabel(\"MAE\")\n",
    "plt.legend()\n",
    "plt.show()"
   ]
  },
  {
   "cell_type": "code",
   "execution_count": 16,
   "metadata": {},
   "outputs": [
    {
     "data": {
      "text/plain": [
       "{'memory': None,\n",
       " 'steps': [('scaler', StandardScaler()), ('ridge', Ridge())],\n",
       " 'verbose': False,\n",
       " 'scaler': StandardScaler(),\n",
       " 'ridge': Ridge(),\n",
       " 'scaler__copy': True,\n",
       " 'scaler__with_mean': True,\n",
       " 'scaler__with_std': True,\n",
       " 'ridge__alpha': 1.0,\n",
       " 'ridge__copy_X': True,\n",
       " 'ridge__fit_intercept': True,\n",
       " 'ridge__max_iter': None,\n",
       " 'ridge__positive': False,\n",
       " 'ridge__random_state': None,\n",
       " 'ridge__solver': 'auto',\n",
       " 'ridge__tol': 0.0001}"
      ]
     },
     "execution_count": 16,
     "metadata": {},
     "output_type": "execute_result"
    }
   ],
   "source": [
    "# Create the pipeline\n",
    "pipe = Pipeline([(\"scaler\", StandardScaler()), (\"ridge\", Ridge())])\n",
    "pipe.get_params()"
   ]
  },
  {
   "cell_type": "code",
   "execution_count": 17,
   "metadata": {},
   "outputs": [
    {
     "data": {
      "image/png": "[encoded data removed]",
      "text/plain": [
       "<Figure size 640x480 with 1 Axes>"
      ]
     },
     "metadata": {},
     "output_type": "display_data"
    }
   ],
   "source": [
    "# Variable to store the results\n",
    "gs_results = []\n",
    "\n",
    "# Grid search\n",
    "for alpha in np.logspace(-4, 4, num=100):\n",
    "    # Fit the pipeline\n",
    "    pipe.set_params(ridge__alpha=alpha)\n",
    "    pipe.fit(X_tr, y_tr)\n",
    "\n",
    "    # Save model and its performance on train/test sets\n",
    "    gs_results.append(\n",
    "        {\n",
    "            \"alpha\": alpha,\n",
    "            \"train_mae\": MAE(y_tr, pipe.predict(X_tr)),\n",
    "            \"test_mae\": MAE(y_te, pipe.predict(X_te)),\n",
    "        }\n",
    "    )\n",
    "\n",
    "# Convert results to DataFrame\n",
    "gs_results = pd.DataFrame(gs_results)\n",
    "\n",
    "# Plot the validation curves\n",
    "plt.semilogx(gs_results[\"alpha\"], gs_results[\"train_mae\"], label=\"train curve\")\n",
    "plt.semilogx(gs_results[\"alpha\"], gs_results[\"test_mae\"], label=\"test curve\")\n",
    "plt.xlabel(\"$alpha$\")\n",
    "plt.ylabel(\"MAE\")\n",
    "plt.legend()\n",
    "plt.show()"
   ]
  },
  {
   "cell_type": "markdown",
   "metadata": {},
   "source": [
    "# 3. Column transformations"
   ]
  },
  {
   "cell_type": "markdown",
   "metadata": {},
   "source": [
    " So far in this program, we have seen how to structure our data analysis into (1) data preparation (2) exploratory data analysis (EDA) and (3) machine learning parts. The first two steps (1) and (2) involve a lot of data manipulation and are done in Pandas and the last one (3) with Scikit-learn. Because ML models only work with numerical data, we usually convert our DataFrame into a Numpy float 2d array only at step (3) for sklearn estimators. It’s important to understand that the data preprocessing (1) and (2) are done in Pandas. The only exception is for common preprocessing steps that are very specific to ML such as StandardScaler or dimensionality reduction such as PCA (more about this in the next course) - those are usually encapsulated into a Pipeline object as shown in the last unit. The reason for this exception is simple: those ML operations are independent of the nature of the column unlike the data manipulation steps from (1) and (2) that are usually very specific to each variable. For instance, feature engineering and outliers removal are done in Pandas because they depend on the type of variable and their meaning ex. it doesn’t make sense to create polynomial features for categories or apply z-score outliers removal to ordinal variables or skewed ones."
   ]
  },
  {
   "cell_type": "markdown",
   "metadata": {},
   "source": [
    "__One-hot encoding with Scikit-learn__"
   ]
  },
  {
   "cell_type": "code",
   "execution_count": 18,
   "metadata": {},
   "outputs": [
    {
     "data": {
      "text/html": [
       "<div>\n",
       "<style scoped>\n",
       "    .dataframe tbody tr th:only-of-type {\n",
       "        vertical-align: middle;\n",
       "    }\n",
       "\n",
       "    .dataframe tbody tr th {\n",
       "        vertical-align: top;\n",
       "    }\n",
       "\n",
       "    .dataframe thead th {\n",
       "        text-align: right;\n",
       "    }\n",
       "</style>\n",
       "<table border=\"1\" class=\"dataframe\">\n",
       "  <thead>\n",
       "    <tr style=\"text-align: right;\">\n",
       "      <th></th>\n",
       "      <th>temp</th>\n",
       "      <th>hum</th>\n",
       "      <th>windspeed</th>\n",
       "      <th>yr</th>\n",
       "      <th>workingday</th>\n",
       "      <th>holiday</th>\n",
       "      <th>weekday</th>\n",
       "      <th>season</th>\n",
       "      <th>weathersit</th>\n",
       "      <th>casual</th>\n",
       "    </tr>\n",
       "  </thead>\n",
       "  <tbody>\n",
       "    <tr>\n",
       "      <th>0</th>\n",
       "      <td>0.344</td>\n",
       "      <td>0.806</td>\n",
       "      <td>0.160</td>\n",
       "      <td>2011</td>\n",
       "      <td>no</td>\n",
       "      <td>no</td>\n",
       "      <td>6</td>\n",
       "      <td>spring</td>\n",
       "      <td>cloudy</td>\n",
       "      <td>331</td>\n",
       "    </tr>\n",
       "    <tr>\n",
       "      <th>1</th>\n",
       "      <td>0.363</td>\n",
       "      <td>0.696</td>\n",
       "      <td>0.249</td>\n",
       "      <td>2011</td>\n",
       "      <td>no</td>\n",
       "      <td>no</td>\n",
       "      <td>0</td>\n",
       "      <td>spring</td>\n",
       "      <td>cloudy</td>\n",
       "      <td>131</td>\n",
       "    </tr>\n",
       "    <tr>\n",
       "      <th>2</th>\n",
       "      <td>0.196</td>\n",
       "      <td>0.437</td>\n",
       "      <td>0.248</td>\n",
       "      <td>2011</td>\n",
       "      <td>yes</td>\n",
       "      <td>no</td>\n",
       "      <td>1</td>\n",
       "      <td>spring</td>\n",
       "      <td>clear</td>\n",
       "      <td>120</td>\n",
       "    </tr>\n",
       "    <tr>\n",
       "      <th>3</th>\n",
       "      <td>0.200</td>\n",
       "      <td>0.590</td>\n",
       "      <td>0.160</td>\n",
       "      <td>2011</td>\n",
       "      <td>yes</td>\n",
       "      <td>no</td>\n",
       "      <td>2</td>\n",
       "      <td>spring</td>\n",
       "      <td>clear</td>\n",
       "      <td>108</td>\n",
       "    </tr>\n",
       "    <tr>\n",
       "      <th>4</th>\n",
       "      <td>0.227</td>\n",
       "      <td>0.437</td>\n",
       "      <td>0.187</td>\n",
       "      <td>2011</td>\n",
       "      <td>yes</td>\n",
       "      <td>no</td>\n",
       "      <td>3</td>\n",
       "      <td>spring</td>\n",
       "      <td>clear</td>\n",
       "      <td>82</td>\n",
       "    </tr>\n",
       "  </tbody>\n",
       "</table>\n",
       "</div>"
      ],
      "text/plain": [
       "    temp    hum  windspeed    yr workingday holiday  weekday  season  \\\n",
       "0  0.344  0.806      0.160  2011         no      no        6  spring   \n",
       "1  0.363  0.696      0.249  2011         no      no        0  spring   \n",
       "2  0.196  0.437      0.248  2011        yes      no        1  spring   \n",
       "3  0.200  0.590      0.160  2011        yes      no        2  spring   \n",
       "4  0.227  0.437      0.187  2011        yes      no        3  spring   \n",
       "\n",
       "  weathersit  casual  \n",
       "0     cloudy     331  \n",
       "1     cloudy     131  \n",
       "2      clear     120  \n",
       "3      clear     108  \n",
       "4      clear      82  "
      ]
     },
     "execution_count": 18,
     "metadata": {},
     "output_type": "execute_result"
    }
   ],
   "source": [
    "import pandas as pd\n",
    "\n",
    "data_df = pd.read_csv(\"c3_bike-sharing-data.csv\")\n",
    "data_df.head()"
   ]
  },
  {
   "cell_type": "code",
   "execution_count": 19,
   "metadata": {},
   "outputs": [
    {
     "data": {
      "text/plain": [
       "<731x1714 sparse matrix of type '<class 'numpy.float64'>'\n",
       "\twith 7310 stored elements in Compressed Sparse Row format>"
      ]
     },
     "execution_count": 19,
     "metadata": {},
     "output_type": "execute_result"
    }
   ],
   "source": [
    "from sklearn.preprocessing import OneHotEncoder\n",
    "\n",
    "# Create encoder\n",
    "encoder = OneHotEncoder()\n",
    "encoder.fit_transform(data_df)"
   ]
  },
  {
   "cell_type": "markdown",
   "metadata": {},
   "source": [
    "The result can be a bit surprising at first sight: we pass a DataFrame object and get a sparse matrix with 1,714 columns! In fact, the transformer encodes all the columns from the input data, including the numerical ones. So it creates a new one-hot encoded column for each distinct value in the DataFrame."
   ]
  },
  {
   "cell_type": "markdown",
   "metadata": {},
   "source": [
    "__ColumnTransformer object__"
   ]
  },
  {
   "cell_type": "code",
   "execution_count": 20,
   "metadata": {},
   "outputs": [],
   "source": [
    "from sklearn.compose import ColumnTransformer\n",
    "\n",
    "# Handle categorical variables\n",
    "cat_columns = [\"yr\", \"workingday\", \"holiday\", \"weekday\", \"season\", \"weathersit\"]\n",
    "cat_transformer = OneHotEncoder(sparse=False)\n",
    "\n",
    "# Create the column transformer\n",
    "preprocessor = ColumnTransformer(\n",
    "    [(\"categorical\", cat_transformer, cat_columns)], remainder=\"passthrough\"\n",
    ")"
   ]
  },
  {
   "cell_type": "code",
   "execution_count": 21,
   "metadata": {},
   "outputs": [
    {
     "name": "stderr",
     "output_type": "stream",
     "text": [
      "/home/miguel/.pyenv/versions/3.9/envs/epfl_extension_school/lib/python3.9/site-packages/sklearn/preprocessing/_encoders.py:975: FutureWarning: `sparse` was renamed to `sparse_output` in version 1.2 and will be removed in 1.4. `sparse_output` is ignored unless you leave `sparse` to its default value.\n",
      "  warnings.warn(\n"
     ]
    },
    {
     "data": {
      "text/plain": [
       "array([[1.00e+00, 0.00e+00, 1.00e+00, ..., 8.06e-01, 1.60e-01, 3.31e+02],\n",
       "       [1.00e+00, 0.00e+00, 1.00e+00, ..., 6.96e-01, 2.49e-01, 1.31e+02],\n",
       "       [1.00e+00, 0.00e+00, 0.00e+00, ..., 4.37e-01, 2.48e-01, 1.20e+02],\n",
       "       ...,\n",
       "       [0.00e+00, 1.00e+00, 1.00e+00, ..., 7.53e-01, 1.24e-01, 1.59e+02],\n",
       "       [0.00e+00, 1.00e+00, 1.00e+00, ..., 4.83e-01, 3.51e-01, 3.64e+02],\n",
       "       [0.00e+00, 1.00e+00, 0.00e+00, ..., 5.78e-01, 1.55e-01, 4.39e+02]])"
      ]
     },
     "execution_count": 21,
     "metadata": {},
     "output_type": "execute_result"
    }
   ],
   "source": [
    "encoded = preprocessor.fit_transform(data_df)\n",
    "encoded"
   ]
  },
  {
   "cell_type": "code",
   "execution_count": 22,
   "metadata": {},
   "outputs": [
    {
     "name": "stdout",
     "output_type": "stream",
     "text": [
      "Shape: (731, 24)\n",
      "Type: <class 'numpy.ndarray'>\n",
      "Data type: float64\n"
     ]
    }
   ],
   "source": [
    "print(\"Shape:\", encoded.shape)\n",
    "print(\"Type:\", type(encoded))\n",
    "print(\"Data type:\", encoded.dtype)"
   ]
  },
  {
   "cell_type": "code",
   "execution_count": 23,
   "metadata": {},
   "outputs": [
    {
     "name": "stdout",
     "output_type": "stream",
     "text": [
      "This OneHotEncoder instance is not fitted yet. Call 'fit' with appropriate arguments before using this estimator.\n"
     ]
    }
   ],
   "source": [
    "try:\n",
    "    cat_transformer.get_feature_names_out()\n",
    "except Exception as e:\n",
    "    print(e)"
   ]
  },
  {
   "cell_type": "code",
   "execution_count": 24,
   "metadata": {},
   "outputs": [
    {
     "data": {
      "text/plain": [
       "{'categorical': OneHotEncoder(sparse=False, sparse_output=False),\n",
       " 'remainder': 'passthrough'}"
      ]
     },
     "execution_count": 24,
     "metadata": {},
     "output_type": "execute_result"
    }
   ],
   "source": [
    "preprocessor.named_transformers_"
   ]
  },
  {
   "cell_type": "code",
   "execution_count": 25,
   "metadata": {},
   "outputs": [
    {
     "data": {
      "text/plain": [
       "array(['yr_2011', 'yr_2012', 'workingday_no', 'workingday_yes',\n",
       "       'holiday_no', 'holiday_yes', 'weekday_0', 'weekday_1', 'weekday_2',\n",
       "       'weekday_3', 'weekday_4', 'weekday_5', 'weekday_6', 'season_fall',\n",
       "       'season_spring', 'season_summer', 'season_winter',\n",
       "       'weathersit_clear', 'weathersit_cloudy', 'weathersit_rainy'],\n",
       "      dtype=object)"
      ]
     },
     "execution_count": 25,
     "metadata": {},
     "output_type": "execute_result"
    }
   ],
   "source": [
    "preprocessor.named_transformers_[\"categorical\"].get_feature_names_out()"
   ]
  },
  {
   "cell_type": "markdown",
   "metadata": {},
   "source": [
    "__Issue with missing categories__"
   ]
  },
  {
   "cell_type": "code",
   "execution_count": 26,
   "metadata": {},
   "outputs": [
    {
     "data": {
      "text/html": [
       "<div>\n",
       "<style scoped>\n",
       "    .dataframe tbody tr th:only-of-type {\n",
       "        vertical-align: middle;\n",
       "    }\n",
       "\n",
       "    .dataframe tbody tr th {\n",
       "        vertical-align: top;\n",
       "    }\n",
       "\n",
       "    .dataframe thead th {\n",
       "        text-align: right;\n",
       "    }\n",
       "</style>\n",
       "<table border=\"1\" class=\"dataframe\">\n",
       "  <thead>\n",
       "    <tr style=\"text-align: right;\">\n",
       "      <th></th>\n",
       "      <th>temp</th>\n",
       "      <th>hum</th>\n",
       "      <th>windspeed</th>\n",
       "      <th>yr</th>\n",
       "      <th>workingday</th>\n",
       "      <th>holiday</th>\n",
       "      <th>weekday</th>\n",
       "      <th>season</th>\n",
       "      <th>weathersit</th>\n",
       "      <th>casual</th>\n",
       "    </tr>\n",
       "  </thead>\n",
       "  <tbody>\n",
       "    <tr>\n",
       "      <th>0</th>\n",
       "      <td>0.344</td>\n",
       "      <td>0.806</td>\n",
       "      <td>0.16</td>\n",
       "      <td>2011</td>\n",
       "      <td>no</td>\n",
       "      <td>no</td>\n",
       "      <td>6</td>\n",
       "      <td>spring</td>\n",
       "      <td>storm</td>\n",
       "      <td>331</td>\n",
       "    </tr>\n",
       "  </tbody>\n",
       "</table>\n",
       "</div>"
      ],
      "text/plain": [
       "    temp    hum  windspeed    yr workingday holiday  weekday  season  \\\n",
       "0  0.344  0.806       0.16  2011         no      no        6  spring   \n",
       "\n",
       "  weathersit  casual  \n",
       "0      storm     331  "
      ]
     },
     "execution_count": 26,
     "metadata": {},
     "output_type": "execute_result"
    }
   ],
   "source": [
    "new_data = data_df.iloc[:1].copy()\n",
    "new_data[\"weathersit\"] = \"storm\"\n",
    "new_data"
   ]
  },
  {
   "cell_type": "code",
   "execution_count": 27,
   "metadata": {},
   "outputs": [
    {
     "name": "stdout",
     "output_type": "stream",
     "text": [
      "Found unknown categories ['storm'] in column 5 during transform\n"
     ]
    }
   ],
   "source": [
    "try:\n",
    "    preprocessor.transform(new_data)\n",
    "except Exception as e:\n",
    "    print(e)"
   ]
  },
  {
   "cell_type": "markdown",
   "metadata": {},
   "source": [
    "The one-hot encoder returns an exception saying that 'storm' is an unknown value. A common practice is to simply ignore unseen values and set all the corresponding one-hot encoded variables to zero i.e. x5_clear, x5_cloudy and x5_rainy.\n",
    "\n",
    "We can specify this behavior by setting the handle_unknown attribute of our OneHotEncoder"
   ]
  },
  {
   "cell_type": "code",
   "execution_count": 29,
   "metadata": {},
   "outputs": [
    {
     "name": "stderr",
     "output_type": "stream",
     "text": [
      "/home/miguel/.pyenv/versions/3.9/envs/epfl_extension_school/lib/python3.9/site-packages/sklearn/preprocessing/_encoders.py:975: FutureWarning: `sparse` was renamed to `sparse_output` in version 1.2 and will be removed in 1.4. `sparse_output` is ignored unless you leave `sparse` to its default value.\n",
      "  warnings.warn(\n"
     ]
    },
    {
     "data": {
      "text/plain": [
       "array([[1.00e+00, 0.00e+00, 1.00e+00, 0.00e+00, 1.00e+00, 0.00e+00,\n",
       "        0.00e+00, 0.00e+00, 0.00e+00, 0.00e+00, 0.00e+00, 0.00e+00,\n",
       "        1.00e+00, 0.00e+00, 1.00e+00, 0.00e+00, 0.00e+00, 0.00e+00,\n",
       "        0.00e+00, 0.00e+00, 3.44e-01, 8.06e-01, 1.60e-01, 3.31e+02]])"
      ]
     },
     "execution_count": 29,
     "metadata": {},
     "output_type": "execute_result"
    }
   ],
   "source": [
    "# Handle categorical variables\n",
    "cat_transformer = OneHotEncoder(handle_unknown=\"ignore\", sparse=False)\n",
    "\n",
    "# Create the column transformer\n",
    "preprocessor = ColumnTransformer(\n",
    "    [(\"categorical\", cat_transformer, cat_columns)], remainder=\"passthrough\"\n",
    ")\n",
    "preprocessor.fit_transform(data_df)\n",
    "preprocessor.transform(new_data)"
   ]
  },
  {
   "cell_type": "markdown",
   "metadata": {},
   "source": [
    "__Ordinal encoding with Scikit-learn__"
   ]
  },
  {
   "cell_type": "code",
   "execution_count": 30,
   "metadata": {},
   "outputs": [],
   "source": [
    "from sklearn.preprocessing import OrdinalEncoder\n",
    "\n",
    "# Handle ordinal variables\n",
    "ord_columns = [\"weathersit\"]\n",
    "ord_transformer = OrdinalEncoder(categories=[[\"clear\", \"cloudy\", \"rainy\"]])"
   ]
  },
  {
   "cell_type": "markdown",
   "metadata": {},
   "source": [
    "__FunctionTransformer object__"
   ]
  },
  {
   "cell_type": "code",
   "execution_count": 31,
   "metadata": {},
   "outputs": [],
   "source": [
    "from sklearn.preprocessing import StandardScaler, FunctionTransformer\n",
    "from sklearn.pipeline import Pipeline\n",
    "import numpy as np\n",
    "\n",
    "# Add polynomial features\n",
    "poly_columns = [\"temp\", \"hum\", \"windspeed\"]\n",
    "poly_transformer = Pipeline(\n",
    "    [\n",
    "        (\"scaler\", StandardScaler()),\n",
    "        (\"poly\", FunctionTransformer(lambda X: np.c_[X, X ** 2, X ** 3])),\n",
    "    ]\n",
    ")"
   ]
  },
  {
   "cell_type": "markdown",
   "metadata": {},
   "source": [
    "Note that our transformer from above is not equivalent to the PolynomialFeatures one which adds all the interaction terms in addition to the polynomial features."
   ]
  },
  {
   "cell_type": "code",
   "execution_count": 32,
   "metadata": {},
   "outputs": [
    {
     "data": {
      "text/plain": [
       "array(['temp', 'hum', 'windspeed', 'temp^2', 'temp hum', 'temp windspeed',\n",
       "       'hum^2', 'hum windspeed', 'windspeed^2', 'temp^3', 'temp^2 hum',\n",
       "       'temp^2 windspeed', 'temp hum^2', 'temp hum windspeed',\n",
       "       'temp windspeed^2', 'hum^3', 'hum^2 windspeed', 'hum windspeed^2',\n",
       "       'windspeed^3'], dtype=object)"
      ]
     },
     "execution_count": 32,
     "metadata": {},
     "output_type": "execute_result"
    }
   ],
   "source": [
    "from sklearn.preprocessing import PolynomialFeatures\n",
    "\n",
    "polyfeat = PolynomialFeatures(degree=3, include_bias=False)\n",
    "polyfeat.fit(data_df[poly_columns])\n",
    "polyfeat.get_feature_names_out()"
   ]
  },
  {
   "cell_type": "markdown",
   "metadata": {},
   "source": [
    "__Complete pipeline__"
   ]
  },
  {
   "cell_type": "code",
   "execution_count": 33,
   "metadata": {},
   "outputs": [
    {
     "name": "stderr",
     "output_type": "stream",
     "text": [
      "/home/miguel/.pyenv/versions/3.9/envs/epfl_extension_school/lib/python3.9/site-packages/sklearn/preprocessing/_encoders.py:975: FutureWarning: `sparse` was renamed to `sparse_output` in version 1.2 and will be removed in 1.4. `sparse_output` is ignored unless you leave `sparse` to its default value.\n",
      "  warnings.warn(\n"
     ]
    },
    {
     "data": {
      "text/plain": [
       "(731, 30)"
      ]
     },
     "execution_count": 33,
     "metadata": {},
     "output_type": "execute_result"
    }
   ],
   "source": [
    "# Create the column transformer\n",
    "preprocessor = ColumnTransformer(\n",
    "    [\n",
    "        (\"categorical\", cat_transformer, cat_columns),\n",
    "        (\"ordinal\", ord_transformer, ord_columns),\n",
    "        (\"poly\", poly_transformer, poly_columns),\n",
    "    ],\n",
    "    remainder=\"drop\",\n",
    ")\n",
    "\n",
    "encoded = preprocessor.fit_transform(data_df)\n",
    "encoded.shape"
   ]
  },
  {
   "cell_type": "code",
   "execution_count": 34,
   "metadata": {},
   "outputs": [],
   "source": [
    "from sklearn.pipeline import Pipeline\n",
    "from sklearn.linear_model import LinearRegression\n",
    "\n",
    "# Create Pipeline\n",
    "pipe = Pipeline([(\"preprocessor\", preprocessor), (\"regressor\", LinearRegression())])"
   ]
  },
  {
   "cell_type": "code",
   "execution_count": 35,
   "metadata": {},
   "outputs": [
    {
     "name": "stdout",
     "output_type": "stream",
     "text": [
      "MAE: 253.03\n"
     ]
    },
    {
     "name": "stderr",
     "output_type": "stream",
     "text": [
      "/home/miguel/.pyenv/versions/3.9/envs/epfl_extension_school/lib/python3.9/site-packages/sklearn/preprocessing/_encoders.py:975: FutureWarning: `sparse` was renamed to `sparse_output` in version 1.2 and will be removed in 1.4. `sparse_output` is ignored unless you leave `sparse` to its default value.\n",
      "  warnings.warn(\n"
     ]
    }
   ],
   "source": [
    "from sklearn.model_selection import train_test_split\n",
    "from sklearn.metrics import mean_absolute_error as MAE\n",
    "\n",
    "# Split into train/test sets\n",
    "X = data_df.drop(\"casual\", axis=1)\n",
    "y = data_df.casual\n",
    "X_tr, X_te, y_tr, y_te = train_test_split(X, y, test_size=0.3, random_state=0)\n",
    "\n",
    "# Fit/evaluate pipeline\n",
    "pipe.fit(X_tr, y_tr)\n",
    "print(\"MAE: {:.2f}\".format(MAE(y_te, pipe.predict(X_te))))"
   ]
  },
  {
   "cell_type": "code",
   "execution_count": null,
   "metadata": {},
   "outputs": [],
   "source": []
  }
 ],
 "metadata": {
  "kernelspec": {
   "display_name": "epfl_extension_school",
   "language": "python",
   "name": "python3"
  },
  "language_info": {
   "codemirror_mode": {
    "name": "ipython",
    "version": 3
   },
   "file_extension": ".py",
   "mimetype": "text/x-python",
   "name": "python",
   "nbconvert_exporter": "python",
   "pygments_lexer": "ipython3",
   "version": "3.9.16"
  }
 },
 "nbformat": 4,
 "nbformat_minor": 2
}
